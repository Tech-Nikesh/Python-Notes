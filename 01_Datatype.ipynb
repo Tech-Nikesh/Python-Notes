{
 "cells": [
  {
   "attachments": {},
   "cell_type": "markdown",
   "metadata": {},
   "source": [
    "                                            PYTHON"
   ]
  },
  {
   "attachments": {},
   "cell_type": "markdown",
   "metadata": {},
   "source": [
    "                                DATA TYPE-----Two type\n",
    "##Primitive data type                                          ##Non-primitive data type\n",
    "1.int                                                        1.List    \n",
    "2.float                                                      2.tuple\n",
    "3.complex                                                    3.range\n",
    "4.Boolean                                                    4.dict      \n",
    "5.str                                                        5.set      \n",
    "6.Bytes                                                      6.frozenset          \n",
    "                                                             7.bytearray"
   ]
  },
  {
   "attachments": {},
   "cell_type": "markdown",
   "metadata": {},
   "source": [
    "                                        Primitive data type"
   ]
  },
  {
   "cell_type": "code",
   "execution_count": 3,
   "metadata": {},
   "outputs": [
    {
     "name": "stdout",
     "output_type": "stream",
     "text": [
      "<class 'int'>\n"
     ]
    }
   ],
   "source": [
    "#------integer\n",
    "i=234\n",
    "print(type(i))"
   ]
  },
  {
   "cell_type": "code",
   "execution_count": null,
   "metadata": {},
   "outputs": [
    {
     "name": "stdout",
     "output_type": "stream",
     "text": [
      "<class 'float'>\n"
     ]
    }
   ],
   "source": [
    "#------Float\n",
    "i=23.8\n",
    "print(type(i))"
   ]
  },
  {
   "cell_type": "code",
   "execution_count": null,
   "metadata": {},
   "outputs": [
    {
     "name": "stdout",
     "output_type": "stream",
     "text": [
      "<class 'complex'>\n"
     ]
    }
   ],
   "source": [
    "#----Complex\n",
    "i=2+3j\n",
    "print(type(i))"
   ]
  },
  {
   "cell_type": "code",
   "execution_count": null,
   "metadata": {},
   "outputs": [
    {
     "name": "stdout",
     "output_type": "stream",
     "text": [
      "<class 'bool'>\n",
      "<class 'bool'>\n"
     ]
    }
   ],
   "source": [
    "#------boolean\n",
    "i=True\n",
    "print(type(i))\n",
    "\n",
    "j=False\n",
    "print(type(j))"
   ]
  },
  {
   "cell_type": "code",
   "execution_count": null,
   "metadata": {},
   "outputs": [
    {
     "name": "stdout",
     "output_type": "stream",
     "text": [
      "<class 'str'>\n"
     ]
    }
   ],
   "source": [
    "#-----string\n",
    "i=\"Nikesh\"\n",
    "print(type(i))"
   ]
  },
  {
   "cell_type": "code",
   "execution_count": null,
   "metadata": {},
   "outputs": [
    {
     "name": "stdout",
     "output_type": "stream",
     "text": [
      "<class 'bytes'>\n"
     ]
    }
   ],
   "source": [
    "#------bytes\n",
    "i=b'1224'\n",
    "print(type(i))"
   ]
  },
  {
   "attachments": {},
   "cell_type": "markdown",
   "metadata": {},
   "source": [
    "                                        Non-primitive data type"
   ]
  },
  {
   "cell_type": "code",
   "execution_count": null,
   "metadata": {},
   "outputs": [
    {
     "name": "stdout",
     "output_type": "stream",
     "text": [
      "<class 'list'>\n"
     ]
    }
   ],
   "source": [
    "#------list\n",
    "#---Mutable collection\n",
    "list=[1,2,3,4,5,6,7,8]\n",
    "print(type(list))"
   ]
  },
  {
   "cell_type": "code",
   "execution_count": null,
   "metadata": {},
   "outputs": [
    {
     "name": "stdout",
     "output_type": "stream",
     "text": [
      "<class 'tuple'>\n"
     ]
    }
   ],
   "source": [
    "#------tuple\n",
    "#---Immutable collection\n",
    "tuple=(1,2,3,4,5,6,7,8,9,10)\n",
    "print(type(tuple))"
   ]
  },
  {
   "cell_type": "code",
   "execution_count": null,
   "metadata": {},
   "outputs": [
    {
     "name": "stdout",
     "output_type": "stream",
     "text": [
      "<class 'range'>\n"
     ]
    }
   ],
   "source": [
    "#-------range\n",
    "#----Immutable collection\n",
    "#---only int value input\n",
    "x=range(1,11)\n",
    "print(type(x))"
   ]
  },
  {
   "cell_type": "code",
   "execution_count": null,
   "metadata": {},
   "outputs": [
    {
     "name": "stdout",
     "output_type": "stream",
     "text": [
      "<class 'set'>\n"
     ]
    }
   ],
   "source": [
    "#-----set\n",
    "#----Mutable collection\n",
    "set={1,2,3,4,5,6}\n",
    "print(type(set))"
   ]
  },
  {
   "cell_type": "code",
   "execution_count": null,
   "metadata": {},
   "outputs": [
    {
     "name": "stdout",
     "output_type": "stream",
     "text": [
      "<class 'frozenset'>\n"
     ]
    }
   ],
   "source": [
    "#-----frozenset\n",
    "#----Immutable collection\n",
    "set={1,2,3,4,5,67,8}\n",
    "x=frozenset(set)\n",
    "print(type(x))"
   ]
  },
  {
   "cell_type": "code",
   "execution_count": null,
   "metadata": {},
   "outputs": [
    {
     "name": "stdout",
     "output_type": "stream",
     "text": [
      "<class 'dict'>\n"
     ]
    }
   ],
   "source": [
    "#-------Dictionary\n",
    "#---Mutable collection\n",
    "dictionary={1:\"one\",2:\"Two\",4:\"four\",5:\"Five\"}\n",
    "print(type(dictionary))"
   ]
  },
  {
   "cell_type": "code",
   "execution_count": null,
   "metadata": {},
   "outputs": [
    {
     "name": "stdout",
     "output_type": "stream",
     "text": [
      "<class 'bytearray'>\n"
     ]
    }
   ],
   "source": [
    "#-------bytearray\n",
    "x=bytearray([23,45,64,34,24])\n",
    "print(type(x))\n",
    "\n",
    "\n",
    "                                    #end"
   ]
  },
  {
   "attachments": {},
   "cell_type": "markdown",
   "metadata": {},
   "source": []
  },
  {
   "cell_type": "code",
   "execution_count": null,
   "metadata": {},
   "outputs": [
    {
     "name": "stdout",
     "output_type": "stream",
     "text": [
      "12.0\n"
     ]
    }
   ],
   "source": [
    "#type casting\n",
    "i=12\n",
    "j=float(i)\n",
    "print(j)"
   ]
  },
  {
   "cell_type": "code",
   "execution_count": null,
   "metadata": {},
   "outputs": [
    {
     "name": "stdout",
     "output_type": "stream",
     "text": [
      "b'6543'\n",
      "6543\n"
     ]
    }
   ],
   "source": [
    "#------encode and decode\n",
    "\n",
    "###encode\n",
    "i='6543'\n",
    "print(i.encode())\n",
    "\n",
    "###decode\n",
    "i=b'6543'\n",
    "print(i.decode())"
   ]
  },
  {
   "cell_type": "code",
   "execution_count": null,
   "metadata": {},
   "outputs": [
    {
     "name": "stdout",
     "output_type": "stream",
     "text": [
      "10\n"
     ]
    }
   ],
   "source": [
    "#---length\n",
    "#---class name-- len()\n",
    "\n",
    "i=[1,2,3,2,4,3,5,6,7,3]\n",
    "print(len(i))"
   ]
  },
  {
   "attachments": {},
   "cell_type": "markdown",
   "metadata": {},
   "source": [
    "                                    Input\n"
   ]
  },
  {
   "cell_type": "code",
   "execution_count": null,
   "metadata": {},
   "outputs": [
    {
     "name": "stdout",
     "output_type": "stream",
     "text": [
      "76.0\n"
     ]
    }
   ],
   "source": [
    "i=input(\"Enter the Number: \")\n",
    "j=input(\"Enter the another Number: \")\n",
    "\n",
    "print(float(i) + float(j))      ## 56 + 20  =76.0"
   ]
  },
  {
   "cell_type": "code",
   "execution_count": 30,
   "metadata": {},
   "outputs": [
    {
     "name": "stdout",
     "output_type": "stream",
     "text": [
      "Your name: Nikesh\n",
      "Your age: 24\n",
      "Your Salary: 2000\n",
      "Total salary: 7000.0\n"
     ]
    }
   ],
   "source": [
    "name=str(input(\"Enter your name: \"))\n",
    "age=int(input(\"Enter your age:\"))\n",
    "sal=input(\"Enter Salary:\")\n",
    "Incentive=input(\"Enter Incentive:\")\n",
    "\n",
    "print(\"Your name:\",name)\n",
    "print(\"Your age:\",age)\n",
    "print(\"Your Salary:\",sal)\n",
    "print(\"Total salary:\",float(sal)+float(Incentive))"
   ]
  }
 ],
 "metadata": {
  "kernelspec": {
   "display_name": "Python 3",
   "language": "python",
   "name": "python3"
  },
  "language_info": {
   "codemirror_mode": {
    "name": "ipython",
    "version": 3
   },
   "file_extension": ".py",
   "mimetype": "text/x-python",
   "name": "python",
   "nbconvert_exporter": "python",
   "pygments_lexer": "ipython3",
   "version": "3.10.11"
  },
  "orig_nbformat": 4
 },
 "nbformat": 4,
 "nbformat_minor": 2
}
