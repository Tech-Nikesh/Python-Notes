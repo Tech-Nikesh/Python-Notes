{
 "cells": [
  {
   "attachments": {},
   "cell_type": "markdown",
   "metadata": {},
   "source": [
    "                            Regular Expression"
   ]
  },
  {
   "attachments": {},
   "cell_type": "markdown",
   "metadata": {},
   "source": [
    "#Regular Expression\n",
    "----use to make the pattern on String data\n",
    "\n",
    "# [0-9]=\\d\n",
    "# [^0-9]=\\D\n",
    "\n",
    "# [a-zA-Z0-9_]=\\w\n",
    "# [^a-zA-Z0-9_]=\\W\n",
    "\n",
    "# [\\n \\t \\b \\f ]=\\s\n",
    "# [^\\n \\t \\b \\f ]=\\S\n",
    "\n"
   ]
  },
  {
   "cell_type": "code",
   "execution_count": 2,
   "metadata": {},
   "outputs": [
    {
     "name": "stdout",
     "output_type": "stream",
     "text": [
      "found\n"
     ]
    }
   ],
   "source": [
    "import re\n",
    "s=\"PYTHON is the best programming language\"\n",
    "\n",
    "if re.search(\"[pP][yY][tT][hH][oO][nN]\",s):\n",
    "    print(\"found\")\n",
    "else:\n",
    "    print(\"No found\")"
   ]
  },
  {
   "cell_type": "code",
   "execution_count": 3,
   "metadata": {},
   "outputs": [
    {
     "data": {
      "text/plain": [
       "(0, 6)"
      ]
     },
     "execution_count": 3,
     "metadata": {},
     "output_type": "execute_result"
    }
   ],
   "source": [
    "#span\n",
    "s=\"PYTHON is the best programming language\"\n",
    "re.search(\"[pP][yY][tT][hH][oO][nN]\",s).span()"
   ]
  },
  {
   "cell_type": "code",
   "execution_count": 4,
   "metadata": {},
   "outputs": [
    {
     "name": "stdout",
     "output_type": "stream",
     "text": [
      "['cat', 'rat', 'mat']\n"
     ]
    }
   ],
   "source": [
    "# findall\n",
    "s=\"i have a cat run behind a rat over a mat\"\n",
    "print(re.findall(\"[a-z]at\",s))\n"
   ]
  },
  {
   "cell_type": "code",
   "execution_count": 5,
   "metadata": {},
   "outputs": [
    {
     "name": "stdout",
     "output_type": "stream",
     "text": [
      "[' at']\n"
     ]
    }
   ],
   "source": [
    "s=\"i have a cat runs behind rat over at home\"\n",
    "print(re.findall(\"[^a-z]at\",s))"
   ]
  },
  {
   "cell_type": "code",
   "execution_count": 6,
   "metadata": {},
   "outputs": [
    {
     "name": "stdout",
     "output_type": "stream",
     "text": [
      "['2', '4', '2', '5']\n"
     ]
    }
   ],
   "source": [
    "s=\"Hello My name is Nikesh i an 24 i am rajat i am 25\"\n",
    "print(re.findall(\"[0-9]\",s))\n"
   ]
  },
  {
   "cell_type": "code",
   "execution_count": 7,
   "metadata": {},
   "outputs": [
    {
     "name": "stdout",
     "output_type": "stream",
     "text": [
      "['24', '25']\n"
     ]
    }
   ],
   "source": [
    "s=\"hello my name is Nikesh i an 24 i am rajat i am 25\"\n",
    "print(re.findall(\"[0-9]{2}\",s))"
   ]
  },
  {
   "cell_type": "code",
   "execution_count": 9,
   "metadata": {},
   "outputs": [
    {
     "name": "stdout",
     "output_type": "stream",
     "text": [
      "(29, 31)\n",
      "(48, 50)\n"
     ]
    }
   ],
   "source": [
    "# finditer\n",
    "for x in re.finditer(\"[0-9]{2}\",s):\n",
    "    print(x.span())\n"
   ]
  },
  {
   "cell_type": "code",
   "execution_count": 10,
   "metadata": {},
   "outputs": [
    {
     "name": "stdout",
     "output_type": "stream",
     "text": [
      "Java is best.Java is good.Java is better\n"
     ]
    }
   ],
   "source": [
    "# Replace\n",
    "s=\"python is best.PYTHON is good.Python is better\"\n",
    "data=re.compile(\"[pP][yY][tT][hH][oO][nN]\")\n",
    "res=data.sub(\"Java\",s)\n",
    "print(res)"
   ]
  },
  {
   "cell_type": "code",
   "execution_count": 12,
   "metadata": {},
   "outputs": [
    {
     "name": "stdout",
     "output_type": "stream",
     "text": [
      "['Rohit', 'Rajat']\n"
     ]
    }
   ],
   "source": [
    "s=\"i am Rohit i am 24. i am Rajat i am 28\"\n",
    "name=re.findall(\"[A-Z][a-z]*\",s)              # * unlimeted\n",
    "print(name)                       #   (1,7) fixed rakhne k liye starting end value lagana padta hai\n"
   ]
  }
 ],
 "metadata": {
  "kernelspec": {
   "display_name": "Python 3",
   "language": "python",
   "name": "python3"
  },
  "language_info": {
   "codemirror_mode": {
    "name": "ipython",
    "version": 3
   },
   "file_extension": ".py",
   "mimetype": "text/x-python",
   "name": "python",
   "nbconvert_exporter": "python",
   "pygments_lexer": "ipython3",
   "version": "3.10.11"
  },
  "orig_nbformat": 4
 },
 "nbformat": 4,
 "nbformat_minor": 2
}
