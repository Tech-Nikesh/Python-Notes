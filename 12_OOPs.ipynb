{
 "cells": [
  {
   "attachments": {},
   "cell_type": "markdown",
   "metadata": {},
   "source": [
    "                        OOPs"
   ]
  },
  {
   "attachments": {},
   "cell_type": "markdown",
   "metadata": {},
   "source": [
    "#OOPs:- object oriented Programming\n",
    "**---->OOPs**\n",
    "defination:-It is a Programming approach based class and Object.In Simple Language,oops is the method to represent the \"real world Entity\" in Programming.\n",
    "\n",
    "**---->POP** (Procedural Oriented Programming)\n",
    "defination:-"
   ]
  },
  {
   "cell_type": "code",
   "execution_count": null,
   "metadata": {},
   "outputs": [],
   "source": [
    "class calculate:\n",
    "    n1=6    #class Attribute\n",
    "    def Square(self,n):   #this is the method\n",
    "        self.n=n        #instance attributes\n",
    "        return n**2\n",
    "    \n",
    "    def cube(self):\n",
    "        return self.n**3\n",
    "obj=calculate()    #Constractors  (# yaha call karne ka method hai)\n",
    "print(obj.Square(5))\n",
    "print(obj.cube())\n",
    "print(obj.n)"
   ]
  },
  {
   "cell_type": "code",
   "execution_count": 4,
   "metadata": {},
   "outputs": [
    {
     "name": "stdout",
     "output_type": "stream",
     "text": [
      "This is Constructor\n",
      "This is distructor\n"
     ]
    }
   ],
   "source": [
    "class calculation:\n",
    "    def __init__(self):   #Constractor\n",
    "        print(\"This is Constructor\")\n",
    "    def Square(self,n):\n",
    "        self.n=n\n",
    "        return n**2\n",
    "    def cube (self):\n",
    "        return self.n**3\n",
    "    def __del__(self):      #Distractor\n",
    "        print(\"This is distructor\")\n",
    "obj=calculation()"
   ]
  },
  {
   "cell_type": "code",
   "execution_count": 8,
   "metadata": {},
   "outputs": [
    {
     "name": "stdout",
     "output_type": "stream",
     "text": [
      "Account Number : 264\n",
      "Account holder name : Nikesh\n",
      "Account balance : 1000\n"
     ]
    }
   ],
   "source": [
    "class BankAccount:\n",
    "    def __init__(self,AccountNumber,name,balance):\n",
    "        self.AccountNumber=AccountNumber\n",
    "        self.name=name\n",
    "        self.balance=balance\n",
    "    def deposite(self,amount):\n",
    "        self.balance +=amount\n",
    "    def widhdrawl(self,amount):\n",
    "        self.balance-=amount\n",
    "    def bankfees(self):\n",
    "        self.balance-=(self.balance*0.05)\n",
    "    def display(self):\n",
    "        print(\"Account Number :\",self.AccountNumber)\n",
    "        print(\"Account holder name :\",self.name)\n",
    "        print(\"Account balance :\",self.balance)\n",
    "d1=BankAccount(264,\"Nikesh\",100)\n",
    "d1.display()\n",
    "\n",
    "\n"
   ]
  },
  {
   "cell_type": "code",
   "execution_count": 9,
   "metadata": {},
   "outputs": [
    {
     "name": "stdout",
     "output_type": "stream",
     "text": [
      "Book title: Good and bad habits\n",
      "Book Author: john Mcclay\n",
      "Book Price 250\n"
     ]
    }
   ],
   "source": [
    "#\n",
    "class Book:\n",
    "    def __init__(self,title,author,price):\n",
    "        self.title=title\n",
    "        self.author=author\n",
    "        self.price=price\n",
    "    def view(self):\n",
    "        print(\"Book title:\",self.title)\n",
    "        print(\"Book Author:\",self.author)\n",
    "        print(\"Book Price\",self.price)\n",
    "\n",
    "b1=Book(\"Good and bad habits\",\"john Mcclay\",250)\n",
    "b1.view()\n",
    "    "
   ]
  },
  {
   "attachments": {},
   "cell_type": "markdown",
   "metadata": {},
   "source": [
    "                                    Feature of  OOPs"
   ]
  },
  {
   "attachments": {},
   "cell_type": "markdown",
   "metadata": {},
   "source": [
    "# Feature of OOPs are Four types\n",
    "    # Inheritance\n",
    "    # Polymorphism\n",
    "    # Encapsulation\n",
    "    # Abstraction"
   ]
  },
  {
   "attachments": {},
   "cell_type": "markdown",
   "metadata": {},
   "source": [
    "                                 Inheritance"
   ]
  },
  {
   "attachments": {},
   "cell_type": "markdown",
   "metadata": {},
   "source": [
    "# Four type of Inheritance \n",
    "    # Single Inheritance\n",
    "    # Multiple Inheritance \n",
    "    # Milti-level Inheritance\n",
    "    # Hierarchical Inheritance"
   ]
  },
  {
   "cell_type": "code",
   "execution_count": 4,
   "metadata": {},
   "outputs": [
    {
     "name": "stdout",
     "output_type": "stream",
     "text": [
      "run method\n",
      "start method\n",
      "stop method\n",
      "==========\n",
      "run Method\n"
     ]
    }
   ],
   "source": [
    "                                        #1.sinle Inheritance\n",
    "#base Example\n",
    "class Vehicles:        \n",
    "    def start(self):\n",
    "        print(\"start method\")\n",
    "    def stop(self):\n",
    "        print(\"stop method\")\n",
    "    def run(self,other):\n",
    "        print(\"run method\")\n",
    "        return other \n",
    "obj=Vehicles()\n",
    "obj.run(\"other\")\n",
    "copy=obj       #this is the copy of object\n",
    "copy.start()\n",
    "obj.stop()\n",
    "print(\"==========\")\n",
    "\n",
    "#single inheritance\n",
    "class vehicles:\n",
    "    def start(self):\n",
    "        print(\"Start Method\")\n",
    "    def stop(self):\n",
    "        print(\"Stop Method\")\n",
    "    def run(self):\n",
    "        print(\"run Method\")\n",
    "class car(vehicles):\n",
    "    pass\n",
    "c=car()\n",
    "c.run()\n",
    "\n"
   ]
  },
  {
   "cell_type": "code",
   "execution_count": 2,
   "metadata": {},
   "outputs": [
    {
     "name": "stdout",
     "output_type": "stream",
     "text": [
      "Exterior design method\n",
      "Interior design method \n",
      "start method\n",
      "stop method\n",
      "run method\n"
     ]
    }
   ],
   "source": [
    "                                            #2.Multiple Inheritance\n",
    "class Vehicles:        \n",
    "    def start(self):\n",
    "        print(\"start method\")\n",
    "    def stop(self):\n",
    "        print(\"stop method\")\n",
    "    def run(self):\n",
    "        print(\"run method\")\n",
    "        \n",
    "class desgin:\n",
    "    def interior(self):\n",
    "        print(\"Interior design method \")\n",
    "    def exterior(self):\n",
    "        print(\"Exterior design method\")\n",
    "        \n",
    "        \n",
    "class car(Vehicles,desgin):\n",
    "    pass\n",
    "\n",
    "obj=car()\n",
    "obj.exterior()\n",
    "obj.interior()\n",
    "obj.start()\n",
    "obj.stop()\n",
    "obj.run()"
   ]
  },
  {
   "cell_type": "code",
   "execution_count": 3,
   "metadata": {},
   "outputs": [
    {
     "name": "stdout",
     "output_type": "stream",
     "text": [
      "Exterior design method\n",
      "Interior design method \n",
      "start method\n",
      "stop method\n",
      "run method\n"
     ]
    }
   ],
   "source": [
    "                                        #3.Multilevel Inheritance\n",
    "class Vehicles:        \n",
    "    def start(self):\n",
    "        print(\"start method\")\n",
    "    def stop(self):\n",
    "        print(\"stop method\")\n",
    "    def run(self):\n",
    "        print(\"run method\")\n",
    "        \n",
    "class desgin:\n",
    "    def interior(self):\n",
    "        print(\"Interior design method \")\n",
    "    def exterior(self):\n",
    "        print(\"Exterior design method\")\n",
    "        \n",
    "        \n",
    "class car(Vehicles,desgin):\n",
    "    pass\n",
    "class sports_car(car):\n",
    "    pass\n",
    "obj=car()\n",
    "obj.exterior()\n",
    "obj.interior()\n",
    "obj.start()\n",
    "obj.stop()\n",
    "obj.run()"
   ]
  },
  {
   "cell_type": "code",
   "execution_count": 4,
   "metadata": {},
   "outputs": [
    {
     "name": "stdout",
     "output_type": "stream",
     "text": [
      "Exterior design method\n",
      "Interior design method \n",
      "start method\n",
      "stop method\n",
      "run method\n"
     ]
    }
   ],
   "source": [
    "                                            #4.Hierarchical Inheritance\n",
    "class Vehicles:        \n",
    "    def start(self):\n",
    "        print(\"start method\")\n",
    "    def stop(self):\n",
    "        print(\"stop method\")\n",
    "    def run(self):\n",
    "        print(\"run method\")\n",
    "        \n",
    "class desgin:\n",
    "    def interior(self):\n",
    "        print(\"Interior design method \")\n",
    "    def exterior(self):\n",
    "        print(\"Exterior design method\")\n",
    "        \n",
    "        \n",
    "# class car(Vehicles,desgin):\n",
    "#     pass\n",
    "# class sports_car(car):\n",
    "#     pass\n",
    "\n",
    "class truck(Vehicles):\n",
    "    pass\n",
    "class Bus(Vehicles):\n",
    "    pass\n",
    "\n",
    "\n",
    "obj=car()\n",
    "obj.exterior()\n",
    "obj.interior()\n",
    "obj.start()\n",
    "obj.stop()\n",
    "obj.run()"
   ]
  },
  {
   "attachments": {},
   "cell_type": "markdown",
   "metadata": {},
   "source": [
    "                                        Polymorphism"
   ]
  },
  {
   "attachments": {},
   "cell_type": "markdown",
   "metadata": {},
   "source": [
    "# Polymorphism\n",
    "    # method Overloading\n",
    "    # Methood Overridding\n",
    "    # Operator Overloading"
   ]
  },
  {
   "cell_type": "code",
   "execution_count": 6,
   "metadata": {},
   "outputs": [
    {
     "name": "stdout",
     "output_type": "stream",
     "text": [
      "0\n"
     ]
    }
   ],
   "source": [
    "                        # method Overloading\n",
    "class calculation:\n",
    "    def __init__(self,a=0,b=0):\n",
    "        self.a=a\n",
    "        self.b=b\n",
    "    def add(self):\n",
    "        return self.a + self.b\n",
    "c=calculation()\n",
    "print(c.add())\n",
    "\n",
    "# Note:- yah default value dalna padhta jissey koe error nahi aye"
   ]
  },
  {
   "cell_type": "code",
   "execution_count": 7,
   "metadata": {},
   "outputs": [
    {
     "name": "stdout",
     "output_type": "stream",
     "text": [
      "Start Method\n",
      "Start Method car\n",
      "Start Method\n"
     ]
    }
   ],
   "source": [
    "                                # Methood Overridding\n",
    "class Vehicles:   #base class or parent class\n",
    "    def start(self):\n",
    "        print(\"start method\")\n",
    "    def stop(self):\n",
    "        print(\"stop method\")\n",
    "    def run(self):\n",
    "        print(\"run method\")\n",
    "        # return other \n",
    "class car(vehicles):\n",
    "    def start(self):\n",
    "        print(\"Start Method car\")\n",
    "        super().start()      # vehicle.start() bhi dal sakte hai\n",
    "v=vehicles()\n",
    "v.start()\n",
    "c=car()\n",
    "c.start()"
   ]
  },
  {
   "cell_type": "code",
   "execution_count": 8,
   "metadata": {},
   "outputs": [
    {
     "name": "stdout",
     "output_type": "stream",
     "text": [
      "12\n"
     ]
    }
   ],
   "source": [
    "                                # Operator Overloading\n",
    "class calculation:\n",
    "    def __init__(self,a):\n",
    "        self.a=a\n",
    "    def __add__(self,other):\n",
    "        return self.a + other.a\n",
    "c1=calculation(4)\n",
    "c2=calculation(8)\n",
    "print(c1 + c2)                           "
   ]
  },
  {
   "attachments": {},
   "cell_type": "markdown",
   "metadata": {},
   "source": [
    "                                            Encapsulation"
   ]
  },
  {
   "cell_type": "code",
   "execution_count": 3,
   "metadata": {},
   "outputs": [
    {
     "name": "stdout",
     "output_type": "stream",
     "text": [
      "Employee Id: 123\n",
      "Employee Name: ABC\n",
      "Employee Age: 56\n",
      "Location: Ghaziabad\n",
      "Employee Id: 123\n",
      "Employee Name: rohit sharma\n",
      "Employee Age: 56\n",
      "Location: Ghaziabad\n"
     ]
    }
   ],
   "source": [
    "# encapsulation------binding the data\n",
    "        #Access Modifying :Public, Protected, Privet\n",
    "class Employee:\n",
    "    def __init__(self,id,name,age,location):\n",
    "        self.id=id\n",
    "        self.name=name\n",
    "        self._age=age      #Protected Method\n",
    "        self.__location=location       #Privet Method\n",
    "    def display(self):\n",
    "        print(\"Employee Id:\",self.id) \n",
    "        print(\"Employee Name:\",self.name) \n",
    "        print(\"Employee Age:\",self._age) \n",
    "        print(\"Location:\",self.__location)\n",
    "    def changelocation(self,newlocation): #agar hame change karna hai toh New method ka use karna hoga.\n",
    "        self.__location=newlocation\n",
    "obj=Employee(123,\"ABC\",56,\"Ghaziabad\")\n",
    "obj.display() \n",
    "obj.name=\"rohit sharma\"\n",
    "obj.display()"
   ]
  },
  {
   "attachments": {},
   "cell_type": "markdown",
   "metadata": {},
   "source": [
    "                                            Abstraction"
   ]
  },
  {
   "cell_type": "code",
   "execution_count": 5,
   "metadata": {},
   "outputs": [
    {
     "name": "stdout",
     "output_type": "stream",
     "text": [
      "Start method for car\n",
      "Start method for vehicle\n",
      "Stop method for Vehicle\n"
     ]
    }
   ],
   "source": [
    "#Abstration ------hiding the method\n",
    "\n",
    "\n",
    "from abc import ABC,abstractmethod\n",
    "class vehicle:\n",
    "    @abstractmethod\n",
    "    def start(self):\n",
    "        print(\"Start method for vehicle\")\n",
    "    def stop(self):\n",
    "        print(\"Stop method for Vehicle\")\n",
    "class car(vehicle):\n",
    "    def start(self):\n",
    "        print(\"Start method for car\")\n",
    "        super().start()\n",
    "c=car()\n",
    "c.start()\n",
    "c.stop()\n",
    "\n"
   ]
  }
 ],
 "metadata": {
  "kernelspec": {
   "display_name": "Python 3",
   "language": "python",
   "name": "python3"
  },
  "language_info": {
   "codemirror_mode": {
    "name": "ipython",
    "version": 3
   },
   "file_extension": ".py",
   "mimetype": "text/x-python",
   "name": "python",
   "nbconvert_exporter": "python",
   "pygments_lexer": "ipython3",
   "version": "3.10.11"
  },
  "orig_nbformat": 4
 },
 "nbformat": 4,
 "nbformat_minor": 2
}
