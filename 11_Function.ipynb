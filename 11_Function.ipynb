{
 "cells": [
  {
   "attachments": {},
   "cell_type": "markdown",
   "metadata": {},
   "source": [
    "                                Function"
   ]
  },
  {
   "attachments": {},
   "cell_type": "markdown",
   "metadata": {},
   "source": [
    "# function--------block to define a process\n",
    "    #coding line avoid\n",
    "    #code arrange\n",
    "    #Save time\n",
    "**#setps to follow:**\n",
    "    #define a function\n",
    "    #calling a function\n",
    "**#Function Type**\n",
    "    #In-build function\n",
    "        #calling  \n",
    "        #example:-print(),input(),type(),len()\n",
    "    #User define function\n",
    "        # define a function\n",
    "        # calling a function\n",
    "**#Syntax:-**\n",
    "        def function_name(Parameter(Optional))\n",
    "            #Process Steps\n",
    "            #return value(Optional)\n",
    "**#call**\n",
    "**#return call**\n",
    "**#Key Argument**\n",
    "**#Default Parameter**\n",
    "**#Arbitrary Argument**\n",
    "**#key Arbitrary Argument**\n",
    "\n",
    "                                # Feature of Function\n",
    "**Lambda function:-**\n",
    "    # no name \n",
    "    # one line function \n",
    "    # return value without return keyword\n",
    "**Recursion:-**\n",
    "    #function calling itself \n",
    "**Copy of function**\n",
    "\n",
    "**Nested function**\n"
   ]
  },
  {
   "attachments": {},
   "cell_type": "markdown",
   "metadata": {},
   "source": [
    "                            # Call"
   ]
  },
  {
   "cell_type": "code",
   "execution_count": 16,
   "metadata": {},
   "outputs": [
    {
     "name": "stdout",
     "output_type": "stream",
     "text": [
      "My name is {name} and i am student of {company}\n",
      "My name is {name} and i am student of {company}\n",
      "My name is {name} and i am student of {company}\n"
     ]
    }
   ],
   "source": [
    "# Call\n",
    "def display():\n",
    "    print(\"My name is {name} and i am student of {company}\")\n",
    "display()\n",
    "display()\n",
    "display()"
   ]
  },
  {
   "cell_type": "code",
   "execution_count": 5,
   "metadata": {},
   "outputs": [
    {
     "name": "stdout",
     "output_type": "stream",
     "text": [
      "My name is Nikesh and i am student of ducat\n",
      "My name is Honny and i am student of LG\n",
      "My name is Anit and i am student of TCS\n"
     ]
    }
   ],
   "source": [
    "def display(name,company):\n",
    "    print(f\"My name is {name} and i am student of {company}\")\n",
    "display(\"Nikesh\",\"ducat\")\n",
    "display(\"Honny\",\"LG\")\n",
    "display(\"Anit\",\"TCS\")"
   ]
  },
  {
   "attachments": {},
   "cell_type": "markdown",
   "metadata": {},
   "source": [
    "                        Return call"
   ]
  },
  {
   "cell_type": "code",
   "execution_count": 6,
   "metadata": {},
   "outputs": [
    {
     "name": "stdout",
     "output_type": "stream",
     "text": [
      "ROHIT 32\n"
     ]
    }
   ],
   "source": [
    "#return call\n",
    "def detail(name,age):\n",
    "    if name.islower():\n",
    "        name=name.upper()\n",
    "        return name,age\n",
    "n,a=detail(\"rohit\",32)\n",
    "print(n,a)\n"
   ]
  },
  {
   "attachments": {},
   "cell_type": "markdown",
   "metadata": {},
   "source": [
    "                        #Key Argument"
   ]
  },
  {
   "cell_type": "code",
   "execution_count": 9,
   "metadata": {},
   "outputs": [
    {
     "name": "stdout",
     "output_type": "stream",
     "text": [
      "Nikesh 56\n"
     ]
    }
   ],
   "source": [
    "#key argument\n",
    "def detail(name,age):\n",
    "    if name.islower():\n",
    "        name=name.upper()\n",
    "    return name,age\n",
    "n,a=detail(age=56,name=\"Nikesh\")\n",
    "print(n,a)"
   ]
  },
  {
   "attachments": {},
   "cell_type": "markdown",
   "metadata": {},
   "source": [
    "                        default Argument"
   ]
  },
  {
   "cell_type": "code",
   "execution_count": 12,
   "metadata": {},
   "outputs": [
    {
     "name": "stdout",
     "output_type": "stream",
     "text": [
      "SAHIL 0\n"
     ]
    }
   ],
   "source": [
    "#default Argument\n",
    "def detail(name,age=0):\n",
    "    if name.islower():\n",
    "        name=name.upper()\n",
    "    return name,age\n",
    "n,a=detail(name=\"sahil\") \n",
    "print(n,a)\n",
    "\n",
    "# note:- isme ek pehle non-default ayega tab default ayega\n",
    "    # 'name' hamara non-default hai or 'age' hamara default hai\n",
    "    # default 0 ya koe bhai integer value rakh sakte hai"
   ]
  },
  {
   "attachments": {},
   "cell_type": "markdown",
   "metadata": {},
   "source": [
    "                    Arbitrary Argument "
   ]
  },
  {
   "cell_type": "code",
   "execution_count": 13,
   "metadata": {},
   "outputs": [
    {
     "name": "stdout",
     "output_type": "stream",
     "text": [
      "(1, 2, 3, 4, 5)\n",
      "(1, 2)\n",
      "()\n"
     ]
    }
   ],
   "source": [
    "def getdata(*Param):\n",
    "    print(Param)\n",
    "getdata(1,2,3,4,5)\n",
    "getdata(1,2)\n",
    "getdata()"
   ]
  },
  {
   "attachments": {},
   "cell_type": "markdown",
   "metadata": {},
   "source": [
    "                        Keyword Aribitrary Argument"
   ]
  },
  {
   "cell_type": "code",
   "execution_count": 15,
   "metadata": {},
   "outputs": [
    {
     "name": "stdout",
     "output_type": "stream",
     "text": [
      "{'a': 1, 'b': 2, 'c': 4}\n"
     ]
    }
   ],
   "source": [
    "def getdata(**Param):\n",
    "    print(Param)\n",
    "getdata(a=1,b=2,c=4)\n",
    "\n",
    "#note:- iska Answer key or value mai ata hai"
   ]
  },
  {
   "attachments": {},
   "cell_type": "markdown",
   "metadata": {},
   "source": [
    "                        Features Of function"
   ]
  },
  {
   "attachments": {},
   "cell_type": "markdown",
   "metadata": {},
   "source": [
    "**Lambda funciotn:-**\n",
    "    # no name \n",
    "    # one line function \n",
    "    # return value without return keyword\n",
    "**Recursion:-**\n",
    "    #function calling itself \n",
    "**Copy of function**\n",
    "\n",
    "**Nested function**"
   ]
  },
  {
   "cell_type": "code",
   "execution_count": 2,
   "metadata": {},
   "outputs": [
    {
     "name": "stdout",
     "output_type": "stream",
     "text": [
      "hello python\n",
      "60\n"
     ]
    }
   ],
   "source": [
    "#lambda function\n",
    "x=lambda :print(\"hello python\")\n",
    "x()\n",
    "\n",
    "x=lambda a,b :a*b\n",
    "print(x(12,5))"
   ]
  },
  {
   "cell_type": "code",
   "execution_count": 3,
   "metadata": {},
   "outputs": [
    {
     "name": "stdout",
     "output_type": "stream",
     "text": [
      "10 hello python\n",
      "9 hello python\n",
      "8 hello python\n",
      "7 hello python\n",
      "6 hello python\n",
      "5 hello python\n",
      "4 hello python\n",
      "3 hello python\n",
      "2 hello python\n",
      "1 hello python\n"
     ]
    }
   ],
   "source": [
    "#recursion function\n",
    "\n",
    "def display(n):\n",
    "    if n>=1:\n",
    "        print(n,\"hello python\")\n",
    "        display(n-1)\n",
    "display(10)"
   ]
  },
  {
   "cell_type": "code",
   "execution_count": 5,
   "metadata": {},
   "outputs": [
    {
     "name": "stdout",
     "output_type": "stream",
     "text": [
      "Display Function\n",
      "Display Function\n"
     ]
    }
   ],
   "source": [
    "#copy of function\n",
    "def display():\n",
    "    print(\"Display Function\")\n",
    "disp=display\n",
    "disp()\n",
    "display()   \n",
    "\n",
    "# Note:- ham disp() and display() dono se print karva sakte hai"
   ]
  },
  {
   "cell_type": "code",
   "execution_count": 2,
   "metadata": {},
   "outputs": [
    {
     "name": "stdout",
     "output_type": "stream",
     "text": [
      "outer function\n"
     ]
    }
   ],
   "source": [
    "#Nested fumction\n",
    "def outer():\n",
    "    def inner():\n",
    "        print(\"inner function\")\n",
    "    print(\"outer function\")\n",
    "    return inner\n",
    "x=outer()\n",
    "x=()"
   ]
  }
 ],
 "metadata": {
  "kernelspec": {
   "display_name": "Python 3",
   "language": "python",
   "name": "python3"
  },
  "language_info": {
   "codemirror_mode": {
    "name": "ipython",
    "version": 3
   },
   "file_extension": ".py",
   "mimetype": "text/x-python",
   "name": "python",
   "nbconvert_exporter": "python",
   "pygments_lexer": "ipython3",
   "version": "3.10.11"
  },
  "orig_nbformat": 4
 },
 "nbformat": 4,
 "nbformat_minor": 2
}
