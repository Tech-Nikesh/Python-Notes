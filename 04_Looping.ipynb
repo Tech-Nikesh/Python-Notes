{
 "cells": [
  {
   "attachments": {},
   "cell_type": "markdown",
   "metadata": {},
   "source": [
    "                            Looping \n",
    "        "
   ]
  },
  {
   "attachments": {},
   "cell_type": "markdown",
   "metadata": {},
   "source": [
    "**##Looping**-----to iterate(Repete) the statement\n",
    "---- There are two types----\n",
    "#**while loop**:-\n",
    "-----The Python while loop iteration of a code block is executed as long as the given condition, i.e., conditional_expression, is true.\n",
    "#**for loop**:-\n",
    "---- for loop is used for iterating over a sequence (that is either a list, a tuple, a dictionary, a set, or a string).\n",
    "---------------------------\n",
    "In Looping alse use\n",
    "**#Break**\n",
    "**#continue**\n",
    "**#pass**\n",
    "\n",
    "**#Nested loops**"
   ]
  },
  {
   "attachments": {},
   "cell_type": "markdown",
   "metadata": {},
   "source": [
    "                            While Loop"
   ]
  },
  {
   "cell_type": "code",
   "execution_count": 3,
   "metadata": {},
   "outputs": [
    {
     "name": "stdout",
     "output_type": "stream",
     "text": [
      "10 Hello Python\n",
      "11 Hello Python\n",
      "12 Hello Python\n",
      "13 Hello Python\n",
      "14 Hello Python\n",
      "15 Hello Python\n",
      "16 Hello Python\n",
      "17 Hello Python\n",
      "18 Hello Python\n",
      "19 Hello Python\n",
      "20 Hello Python\n"
     ]
    }
   ],
   "source": [
    "# Q-print \"hello python\"  10 to 20 \n",
    "i=10     #initial value\n",
    "while i<=20:    #Loop kaha tak chalana hai\n",
    "    print(i,\"Hello Python\") \n",
    "    i+=1  #i=i+1   increment hota chala jata hai"
   ]
  },
  {
   "cell_type": "code",
   "execution_count": 5,
   "metadata": {},
   "outputs": [
    {
     "name": "stdout",
     "output_type": "stream",
     "text": [
      "2 Hello Python\n",
      "4 Hello Python\n",
      "6 Hello Python\n",
      "8 Hello Python\n",
      "10 Hello Python\n"
     ]
    }
   ],
   "source": [
    "# Q-print output like-2,4,6,8,10\n",
    "i=2   #this is the intial value given\n",
    "while i<=10:\n",
    "    print(i,\"Hello Python\")\n",
    "    i+=2\n",
    "# print(i)"
   ]
  },
  {
   "cell_type": "code",
   "execution_count": 7,
   "metadata": {},
   "outputs": [
    {
     "name": "stdout",
     "output_type": "stream",
     "text": [
      "1\n",
      "2\n",
      "4\n",
      "8\n",
      "16\n",
      "32\n",
      "64\n",
      "128\n"
     ]
    }
   ],
   "source": [
    "# Q-1,2,4,8,16,32,64,128\n",
    "i=1\n",
    "while i<=128:\n",
    "    print(i)\n",
    "    i=i*2    # i*=2(is Trah se bhi likh sakte hai)"
   ]
  },
  {
   "cell_type": "code",
   "execution_count": 6,
   "metadata": {},
   "outputs": [],
   "source": [
    "# Q-infinite time to print 'hello python'\n",
    "\n",
    "# while True:\n",
    "    # print(\"hello Python\")\n",
    "    # break"
   ]
  },
  {
   "cell_type": "code",
   "execution_count": 8,
   "metadata": {},
   "outputs": [
    {
     "name": "stdout",
     "output_type": "stream",
     "text": [
      "5 * 1 = 5\n",
      "5 * 2 = 10\n",
      "5 * 3 = 15\n",
      "5 * 4 = 20\n",
      "5 * 5 = 25\n",
      "5 * 6 = 30\n",
      "5 * 7 = 35\n",
      "5 * 8 = 40\n",
      "5 * 9 = 45\n",
      "5 * 10 = 50\n"
     ]
    }
   ],
   "source": [
    "# Q-Multiplication Table\n",
    "n=int(input(\"Enter the Number:\"))\n",
    "i=1\n",
    "while i<=10:\n",
    "    print(n,\"*\",i,\"=\",i*n)\n",
    "    i+=1"
   ]
  },
  {
   "cell_type": "code",
   "execution_count": 11,
   "metadata": {},
   "outputs": [
    {
     "name": "stdout",
     "output_type": "stream",
     "text": [
      "5 * 2 = 10\n",
      "5 * 4 = 20\n",
      "5 * 6 = 30\n",
      "5 * 8 = 40\n",
      "5 * 10 = 50\n"
     ]
    }
   ],
   "source": [
    "# Q-Multiplication Table print odd and  Even\n",
    "n=int(input(\"Enter the Number:\"))\n",
    "i=1\n",
    "while i<=10:\n",
    "    if i%2==0:\n",
    "        print(n,\"*\",i,\"=\",i*n)\n",
    "    i+=1"
   ]
  },
  {
   "cell_type": "code",
   "execution_count": 19,
   "metadata": {},
   "outputs": [
    {
     "name": "stdout",
     "output_type": "stream",
     "text": [
      "Prime Number\n"
     ]
    }
   ],
   "source": [
    "## Q-Prime Number count\n",
    "\n",
    "n=int(input(\"Enter the Number:\"))\n",
    "i=1\n",
    "count=0\n",
    "while i<=n:\n",
    "    if n%i==0:\n",
    "        count +=1\n",
    "    i+=1\n",
    "# print(\"count:\",count)\n",
    "if count==2:\n",
    "    print(\"Prime Number\")\n",
    "else:\n",
    "    print(\"Non Prime Number\")"
   ]
  },
  {
   "cell_type": "code",
   "execution_count": 3,
   "metadata": {},
   "outputs": [
    {
     "name": "stdout",
     "output_type": "stream",
     "text": [
      "55\n"
     ]
    }
   ],
   "source": [
    "# Q-sum the Number 1,2,3,4,5,6,7,8,9,10\n",
    "i=1\n",
    "s=0\n",
    "while i<=10:\n",
    "    s=s+i\n",
    "    i+=1\n",
    "print(s)"
   ]
  },
  {
   "cell_type": "code",
   "execution_count": 22,
   "metadata": {},
   "outputs": [
    {
     "name": "stdout",
     "output_type": "stream",
     "text": [
      "sum: 25\n"
     ]
    }
   ],
   "source": [
    "# Q-Addion of Five Input Value(while k andar input)\n",
    "i=1\n",
    "s=0\n",
    "while i<=5:\n",
    "    n=int(input(\"Enter the Number\"))\n",
    "    s=s+n\n",
    "    i+=1\n",
    "print('sum:',s)"
   ]
  },
  {
   "attachments": {},
   "cell_type": "markdown",
   "metadata": {},
   "source": [
    "                        For Loop"
   ]
  },
  {
   "cell_type": "code",
   "execution_count": null,
   "metadata": {},
   "outputs": [],
   "source": [
    "n=int(input(\"Enter the Number:\"))\n",
    "r=range(1,11)\n",
    "for x in r:\n",
    "    print(n,'*',r,'=',n*r)\n",
    "\n",
    "##Factors \n",
    "n=int(input(\"Enter the Number:\"))\n",
    "for i in range(1,n+1):\n",
    "    if n%i==0:\n",
    "        print(i)"
   ]
  },
  {
   "cell_type": "code",
   "execution_count": 2,
   "metadata": {},
   "outputs": [
    {
     "name": "stdout",
     "output_type": "stream",
     "text": [
      "HCF : 5\n"
     ]
    }
   ],
   "source": [
    "# HCF\n",
    "n1=int(input(\"Enter the Number:\"))\n",
    "n2=int(input(\"Enter another Number:\"))\n",
    "i=1\n",
    "for i in range(i,n1):\n",
    "    if n1%i ==0 and n2%i==0:\n",
    "        hcf=i\n",
    "    i+=1\n",
    "print(\"HCF :\",hcf)"
   ]
  },
  {
   "attachments": {},
   "cell_type": "markdown",
   "metadata": {},
   "source": [
    "                            Break"
   ]
  },
  {
   "cell_type": "code",
   "execution_count": 4,
   "metadata": {},
   "outputs": [
    {
     "name": "stdout",
     "output_type": "stream",
     "text": [
      "1\n",
      "2\n",
      "3\n",
      "4\n",
      "5\n"
     ]
    }
   ],
   "source": [
    "i=1\n",
    "while i<=10:\n",
    "    print(i)\n",
    "    if i==5:\n",
    "        break\n",
    "    i+=1\n"
   ]
  },
  {
   "attachments": {},
   "cell_type": "markdown",
   "metadata": {},
   "source": [
    "                            Continue"
   ]
  },
  {
   "cell_type": "code",
   "execution_count": 6,
   "metadata": {},
   "outputs": [
    {
     "name": "stdout",
     "output_type": "stream",
     "text": [
      "1\n",
      "2\n",
      "4\n",
      "5\n",
      "7\n",
      "8\n",
      "10\n",
      "11\n"
     ]
    }
   ],
   "source": [
    "i=0\n",
    "while i<=10:\n",
    "    i+=1\n",
    "    if i%3==0:\n",
    "        continue\n",
    "    print(i)"
   ]
  },
  {
   "cell_type": "code",
   "execution_count": 7,
   "metadata": {},
   "outputs": [
    {
     "name": "stdout",
     "output_type": "stream",
     "text": [
      "1\n",
      "2\n",
      "3\n",
      "4\n",
      "5\n",
      "6\n",
      "7\n",
      "8\n",
      "9\n",
      "10\n",
      "This is else block\n"
     ]
    }
   ],
   "source": [
    "i=1\n",
    "while i<=10:\n",
    "    print(i)\n",
    "    i+=1\n",
    "else:\n",
    "    print(\"This is else block\")"
   ]
  },
  {
   "attachments": {},
   "cell_type": "markdown",
   "metadata": {},
   "source": [
    "                        Nestes Loop"
   ]
  },
  {
   "cell_type": "code",
   "execution_count": 8,
   "metadata": {},
   "outputs": [
    {
     "name": "stdout",
     "output_type": "stream",
     "text": [
      "1 1\n",
      "1 2\n",
      "1 3\n",
      "1 4\n",
      "1 5\n",
      "2 1\n",
      "2 2\n",
      "2 3\n",
      "2 4\n",
      "2 5\n",
      "3 1\n",
      "3 2\n",
      "3 3\n",
      "3 4\n",
      "3 5\n"
     ]
    }
   ],
   "source": [
    "i=1\n",
    "while i<=3:\n",
    "    j=1\n",
    "    while j<=5:\n",
    "        print(i,j)\n",
    "        j+=1\n",
    "    i+=1"
   ]
  }
 ],
 "metadata": {
  "kernelspec": {
   "display_name": "Python 3",
   "language": "python",
   "name": "python3"
  },
  "language_info": {
   "codemirror_mode": {
    "name": "ipython",
    "version": 3
   },
   "file_extension": ".py",
   "mimetype": "text/x-python",
   "name": "python",
   "nbconvert_exporter": "python",
   "pygments_lexer": "ipython3",
   "version": "3.10.11"
  },
  "orig_nbformat": 4
 },
 "nbformat": 4,
 "nbformat_minor": 2
}
