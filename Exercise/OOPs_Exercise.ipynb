{
 "cells": [
  {
   "attachments": {},
   "cell_type": "markdown",
   "metadata": {},
   "source": [
    "                                        OOPs Exercise"
   ]
  },
  {
   "attachments": {},
   "cell_type": "markdown",
   "metadata": {},
   "source": [
    "                        # This Question is Inheritance \n",
    "\n",
    "Exercise 1. Rectangle class:  \n",
    "Write a Rectangle class in Python language, allowing you to build a rectangle with length and width attributes.\n",
    "Create a Perimeter() method to calculate the perimeter of the rectangle and a Area() method to calculate the area of ​​the rectangle.\n",
    "Create a method display() that display the length, width, perimeter and area of an object created using an instantiation on rectangle class.\n",
    "Create a Parallelepipede child class inheriting from the Rectangle class and with a height attribute and another Volume() method to calculate the volume of the Parallelepiped.\n"
   ]
  },
  {
   "cell_type": "code",
   "execution_count": 1,
   "metadata": {},
   "outputs": [
    {
     "name": "stdout",
     "output_type": "stream",
     "text": [
      "Volume : 64\n"
     ]
    }
   ],
   "source": [
    "class Rectangle:\n",
    "        def __init__(self,length,width):\n",
    "            self.length=length\n",
    "            self.width=width\n",
    "                \n",
    "        def perim(self):\n",
    "            self.perim=2*(self.length + self.width)\n",
    "        \n",
    "        def area(self):\n",
    "            self.area=self.length * self.width\n",
    "            \n",
    "        def display(self):\n",
    "            print(\"The length of ractangle :\",self.length)\n",
    "            print(\"The width of rectangle:\",self.width)\n",
    "            print(\"Perimeter of rectangle :\",self.perim)\n",
    "            print(\"Area of reactange :\",self.area)\n",
    "            \n",
    "class Parallelpipede(Rectangle):\n",
    "        def volume(self,heigth):\n",
    "            self.heigth=heigth\n",
    "            self.volume_pp=self.length*self.width*self.heigth\n",
    "            print(\"Volume :\",self.volume_pp)\n",
    "        \n",
    "p=Parallelpipede(4,8)\n",
    "# p.area()\n",
    "# p.perim()\n",
    "p.volume(2)\n",
    "# p.display()\n",
    "\n",
    "                "
   ]
  },
  {
   "attachments": {},
   "cell_type": "markdown",
   "metadata": {},
   "source": [
    "# Q-1:-\n",
    "Write a python Employee with attributes like emp_id,emp_name,emp_salary and emp_department and methods like calculate_emp_salary, emp_assign_department and print_employee details."
   ]
  },
  {
   "cell_type": "code",
   "execution_count": 5,
   "metadata": {},
   "outputs": [
    {
     "name": "stdout",
     "output_type": "stream",
     "text": [
      "Id : 21\n",
      "Name : Nikesh\n",
      "Salary : 25000\n",
      "Department : IT\n"
     ]
    }
   ],
   "source": [
    "class Employee:\n",
    "    def __init__(self,emp_id,emp_name,emp_salary,emp_department):\n",
    "        self.emp_id=emp_id\n",
    "        self.emp_name=emp_name\n",
    "        self.emp_salary=emp_salary\n",
    "        self.emp_department=emp_department\n",
    "    def calculate_emp_salary(self,emp_salary):\n",
    "        self.emp_salary=self.emp_salary\n",
    "    def emp_assign_department(self,emp_department):\n",
    "        self.emp_department=emp_department\n",
    "    def print_employee(self):\n",
    "        print(\"Id :\",self.emp_id)\n",
    "        print(\"Name :\",self.emp_name)\n",
    "        print(\"Salary :\",self.emp_salary)\n",
    "        print(\"Department :\",self.emp_department)\n",
    "obj=Employee(21,\"Nikesh\",25000,\"IT\")\n",
    "obj.print_employee()"
   ]
  },
  {
   "attachments": {},
   "cell_type": "markdown",
   "metadata": {},
   "source": [
    "# Q-2:-\n",
    "Write a python class Inventory with_attributes like item_Id, item_name, stock_count and price and methods like add_items and cheak_item_details."
   ]
  },
  {
   "cell_type": "code",
   "execution_count": 4,
   "metadata": {},
   "outputs": [
    {
     "name": "stdout",
     "output_type": "stream",
     "text": [
      "product Name: ['Computer']\n",
      "stock count: [20]\n",
      "unit price: [40000]\n",
      "total price: [40000, 40000, 40000, 40000, 40000, 40000, 40000, 40000, 40000, 40000, 40000, 40000, 40000, 40000, 40000, 40000, 40000, 40000, 40000, 40000]\n"
     ]
    }
   ],
   "source": [
    "class Inventory:\n",
    "    def __init__(self):\n",
    "        self.itemid=[]\n",
    "        self.itemname=[]\n",
    "        self.stock_count=[]\n",
    "        self.price=[]\n",
    "    def add_item(self,id,name,count,price):\n",
    "        if id not in self.itemid:\n",
    "            self.itemid.append(id)\n",
    "            self.itemname.append(name)\n",
    "            self.stock_count.append(count)\n",
    "            self.price.append(price)\n",
    "        else:\n",
    "            print(\"Alreday registered ID \")\n",
    "    def update_items(self,id,count=None,price=None):\n",
    "        if id in self.itemid:\n",
    "            if count is not None:\n",
    "                index=self.itemid.index(id)\n",
    "                self.stock_count[index]=count\n",
    "            if price is not None:\n",
    "                index=self.itemid.index(id)\n",
    "                self.price[index]=price\n",
    "            else:\n",
    "                print(\"Product not available\")\n",
    "    def check_item(self,id):\n",
    "        if id in self.itemid:\n",
    "            index=self.itemid.index(id)\n",
    "            print(\"product Name:\",self.itemname)\n",
    "            print(\"stock count:\",self.stock_count)\n",
    "            print(\"unit price:\",self.price)\n",
    "            print(\"total price:\",self.stock_count[index]*self.price)\n",
    "        else:\n",
    "            print(\"product not available\")\n",
    "        \n",
    "e=Inventory()\n",
    "e.add_item(1,\"Computer\",20,20000)\n",
    "# e.add_item(2,\"Book\",20,200)\n",
    "e.update_items(id=1,price=40000)\n",
    "e.check_item(1)\n"
   ]
  },
  {
   "attachments": {},
   "cell_type": "markdown",
   "metadata": {},
   "source": [
    "# Q-3:-\n",
    "Create one class student_kit\n",
    "within the student_kit create one class attributes principal name(Mr ABC)\n",
    "Create one attendance method and take input as number of days.\n",
    "while creating student take input their name.\n",
    "create one certificate for each student by taking input of number of days present in class."
   ]
  },
  {
   "cell_type": "code",
   "execution_count": 3,
   "metadata": {},
   "outputs": [
    {
     "name": "stdout",
     "output_type": "stream",
     "text": [
      "Student name : Rohan\n",
      "Attendence classes : 20\n",
      "Total classes : 25\n",
      "Principal name : Rohit sharma\n"
     ]
    }
   ],
   "source": [
    "class student_kit:\n",
    "    principal=\"Rohit sharma\"\n",
    "    def __init__(self,name):\n",
    "        self.name=name \n",
    "    def attendence(self,no_of_days):\n",
    "        self.no_of_days=no_of_days\n",
    "    def print_certificate(self):\n",
    "        print(\"Student name :\",self.name)\n",
    "        print(\"Attendence classes :\",self.no_of_days)\n",
    "        print(\"Total classes :\",25)\n",
    "        print(\"Principal name :\",self.principal)\n",
    "s1=student_kit(\"Rohan\")\n",
    "s1.attendence(20)\n",
    "s1.print_certificate()        \n",
    "\n"
   ]
  },
  {
   "attachments": {},
   "cell_type": "markdown",
   "metadata": {},
   "source": [
    "#Q-4.\n",
    "\n",
    "Exercise 4. Circle class \n",
    "1 - Define a Circle class allowing to create a circleC (O, r) with center O(a, b) and radius r using the constructor:\n",
    "\n",
    "    def __init__(self,a,b,r):         \n",
    "        self.a = a         \n",
    "        self.b = b         \n",
    "        self.r = r\n",
    "2 - Define a Area() method of the class which calculates the area of ​​the circle.\n",
    "3 - Define a Perimeter() method of the class which allows you to calculate the perimeter of the circle.\n",
    "4 - Define a testBelongs() method of the class which allows to test whether a point A(x, y) belongs to the circle C(O, r) or not."
   ]
  },
  {
   "cell_type": "code",
   "execution_count": 1,
   "metadata": {},
   "outputs": [
    {
     "name": "stdout",
     "output_type": "stream",
     "text": [
      "The Perimeter of the Circle C is : 3.14\n",
      "The area of the Circle C is : 6.28\n",
      "the point: ( 1 1 ) belongs to the circle C\n"
     ]
    }
   ],
   "source": [
    "import math\n",
    "class Circle:\n",
    "    def __init__(self,a,b,r):\n",
    "        self.a=a\n",
    "        self.b=b\n",
    "        self.r=r\n",
    "    def area(self):\n",
    "        return 2*3.14*self.r\n",
    "    def perimeter(self):\n",
    "        return 3.14 *self.r**2\n",
    "    def formEquation (self, x, y):\n",
    "        return (x-self.a)**2 + (y-self.b)**2 - self.r**2\n",
    "    def test_belong (self, x, y):\n",
    "        if (self.formEquation (x, y) == 0):\n",
    "            print (\"the point: (\", x, y, \") belongs to the circle C\")\n",
    "        else:\n",
    "            print (\"the point: (\", x, y, \") does not belong to the circle C\")\n",
    "c=Circle(1,2,1)\n",
    "print(\"The Perimeter of the Circle C is :\",c.perimeter())\n",
    "print(\"The area of the Circle C is :\",c.area())\n",
    "\n",
    "c.test_belong(1,1)"
   ]
  },
  {
   "attachments": {},
   "cell_type": "markdown",
   "metadata": {},
   "source": [
    "#Q-5:-\n",
    "Exercise 5. Computation class \n",
    "1 - Create a Coputation class with a default constructor (without parameters) allowing to perform various calculations on integers numbers.\n",
    "2 - Create a method called Factorial() which allows to calculate the factorial of an integer. Test the method by instantiating the class.\n",
    "3 - Create a method called Sum() allowing to calculate the sum of the first n integers 1 + 2 + 3 + .. + n. Test this method.\n",
    "4 - Create a method called testPrim() in  the Calculation class to test the primality of a given integer. Test this method.\n",
    "4 - Create  a method called testPrims() allowing to test if two numbers are prime between them.\n",
    "5 - Create a tableMult() method which creates and displays the multiplication table of a given integer. Then create an allTablesMult() method to display all the integer multiplication tables 1, 2, 3, ..., 9.\n",
    "6 - Create a static listDiv() method that gets all the divisors of a given integer on new list called  Ldiv. Create another listDivPrim() method that gets all the prime divisors of a given integer."
   ]
  },
  {
   "cell_type": "code",
   "execution_count": null,
   "metadata": {},
   "outputs": [],
   "source": [
    "class Computation:\n",
    "    def __init__ (self):\n",
    "        pass\n",
    "# --- Factorial ------------\n",
    "    def factorial(self, n):\n",
    "        j = 1\n",
    "        for i in range (1, n + 1):\n",
    "            j = j * i\n",
    "        return j\n",
    "    \n",
    "# --- Sum of the first n numbers ----\n",
    "    def sum (self, n):\n",
    "        j = 1\n",
    "        for i in range (1, n + 1):\n",
    "            j = j + i\n",
    "        return j\n",
    "    \n",
    "# --- Primality test of a number ------------\n",
    "    def testPrim (self, n):\n",
    "        j = 0\n",
    "        for i in range (1, n + 1):\n",
    "            if (n% i == 0):\n",
    "                j = j + 1\n",
    "        if (j == 2):\n",
    "            return True\n",
    "        else:\n",
    "            return False\n",
    "\n",
    "# --- Primality test of two integers ------------\n",
    "    def testprims (self, n, m):\n",
    "        \n",
    "        # initialize the number of commons divisors\n",
    "        commonDiv = 0\n",
    "        for i in range (1, n + 1):\n",
    "            if (n% i == 0 and m% i == 0):\n",
    "                commonDiv = commonDiv + 1\n",
    "        if commonDiv == 1:\n",
    "            print (\"The numbers\", n, \"and\", m, \"are co-primes\")\n",
    "        else:\n",
    "            print (\"The numbers\", n, \"and\", m, \"are not co-primes\")\n",
    "\n",
    "#---Multiplication table-------------\n",
    "    def tableMult (self, k):\n",
    "        for i in range (1,10):\n",
    "            print (i, \"x\", k, \"=\", i * k)\n",
    "\n",
    "# --- All multiplication tables of the numbers 1, 2, .., 9\n",
    "    def allTables (self):\n",
    "        for k in range (1,10):\n",
    "            print (\"nthe multiplication table of:\", k, \"is:\")\n",
    "            for i in range (1,10):\n",
    "                print (i, \"x\", k, \"=\", i * k)\n",
    "\n",
    "# ----- list of divisors of an integer\n",
    "    def listDiv (self, n):\n",
    "        # initialization of the list of divisors\n",
    "        lDiv = []\n",
    "        for i in range (1, n + 1):\n",
    "            if (n% i == 0):\n",
    "                lDiv.append (i)\n",
    "        return lDiv\n",
    "\n",
    "# ------ list of prime divisors of an integer ----------------\n",
    "    def listDivPrim (self, n):\n",
    "        # initialization of the list of divisors\n",
    "        lDiv = []\n",
    "        for i in range (1, n + 1):\n",
    "            if (n% i == 0 and self.testPrim (i)):\n",
    "                lDiv.append (i)\n",
    "        return lDiv\n",
    "\n",
    "# Instantiation example\n",
    "Comput= Computation ()\n",
    "Comput.testprims (13, 7)\n",
    "print (\"List of divisors of 18:\", Comput.listDiv (18))\n",
    "print (\"List of prime divisors of 18:\", Comput.listDivPrim (18))\n",
    "Comput.allTables ()\n",
    "\n",
    "\n"
   ]
  },
  {
   "attachments": {},
   "cell_type": "markdown",
   "metadata": {},
   "source": [
    "#Q-6:-\n",
    "Exercise 6 Class Book \n",
    "1. Define a Book class with the following attributes: Title, Author (Full name), Price.\n",
    "2.Define a constructor used to initialize the attributes of the method with values entered by the user.\n",
    "3.Set the View() method to display information for the current book.\n",
    "4.Write a program to testing the Book class."
   ]
  },
  {
   "cell_type": "code",
   "execution_count": 4,
   "metadata": {},
   "outputs": [
    {
     "name": "stdout",
     "output_type": "stream",
     "text": [
      "Title : Good and bad habites\n",
      "Author name: john Mcclay\n",
      "Price : 250\n"
     ]
    }
   ],
   "source": [
    "class Book:\n",
    "    def __init__(self,title,author,price):\n",
    "        self.title=title\n",
    "        self.author=author\n",
    "        self.price=price\n",
    "    def view(self):\n",
    "        print(\"Title :\",self.title)\n",
    "        print(\"Author name:\",self.author)\n",
    "        print(\"Price :\",self.price)\n",
    "b1=Book(\"Good and bad habites\",\"john Mcclay\",250)\n",
    "b1.view()\n",
    "    "
   ]
  },
  {
   "attachments": {},
   "cell_type": "markdown",
   "metadata": {},
   "source": [
    "#Q-7:-\n",
    "Exercise 7 Class Geometry \n",
    "Write a Geometry class with default constructor having no parameters.\n",
    "\n",
    "1.Write a methode in Geometry class called distance() that allow to compute a distance between two points A = (a1, a2), B = (b1, b2) (with the convention: a point M is identified with its pair of coordinates M = ( x, y)).\n",
    "2. Write a methode in Geometry class called middle() allowing to determine the midle of bipoint (A,B).\n",
    "3.Write method called trianglePerimeter() allowing to compute the perimeter of triangle\n",
    "4.Write method called triangleIsoscel() which returns a True if the triangle is isoscel and False if not."
   ]
  },
  {
   "cell_type": "code",
   "execution_count": 15,
   "metadata": {},
   "outputs": [
    {
     "name": "stdout",
     "output_type": "stream",
     "text": [
      "Distance between A and B: 5.0\n",
      "Middle point of A and B: (2.0, 3.0)\n",
      "Perimeter of triangle ABC: 27.0\n",
      "Is triangle ABC isosceles? True\n"
     ]
    }
   ],
   "source": [
    "class Geometry:\n",
    "    def __init__(self):\n",
    "        pass\n",
    "    def distance(self,a1,a2,b1,b2):\n",
    "        return ((b1-a1)**2 +(b2-b1)**2 **0.5)\n",
    "    def middle(self,a1,a2,b1,b2):\n",
    "        return ((a1+b1)/2,(a2+b2)/2)\n",
    "    def trianglePerimeter(self,a1,a2,b1,b2,c1,c2):\n",
    "        side1=self.distance(a1,a2,b1,b2)\n",
    "        side2=self.distance(b1,b2,c1,c2)\n",
    "        side3=self.distance(c1,c2,a1,a2)\n",
    "        return side1 + side2 +side3\n",
    "    def triangleIsosceles(self,a1,a2,b1,b2,c1,c2):\n",
    "        side1=self.distance(a1,a2,b1,b2)\n",
    "        side2=self.distance(b1,b2,c1,c2)\n",
    "        side3=self.distance(c1,c2,a1,a2)\n",
    "        return side1 == side2 or side1 == side3 or  side2 == side3\n",
    "\n",
    "obj=Geometry()\n",
    "a1,a2=1,2\n",
    "b1,b2=3,4\n",
    "\n",
    "distance=obj.distance(a1,a2,b1,b2)\n",
    "print(\"Distance between A and B:\", distance)\n",
    "\n",
    "middle_point =obj.middle(a1, a2, b1, b2)\n",
    "print(\"Middle point of A and B:\", middle_point)\n",
    "\n",
    "perimeter = obj.trianglePerimeter(a1, a2, b1, b2, c1, c2)\n",
    "print(\"Perimeter of triangle ABC:\", perimeter)\n",
    "\n",
    "triangle = obj.triangleIsosceles(a1, a2, b1, b2, c1, c2)\n",
    "print(\"Is triangle ABC isosceles?\", triangle)\n",
    "\n",
    "\n",
    "\n",
    "    "
   ]
  }
 ],
 "metadata": {
  "kernelspec": {
   "display_name": "Python 3",
   "language": "python",
   "name": "python3"
  },
  "language_info": {
   "codemirror_mode": {
    "name": "ipython",
    "version": 3
   },
   "file_extension": ".py",
   "mimetype": "text/x-python",
   "name": "python",
   "nbconvert_exporter": "python",
   "pygments_lexer": "ipython3",
   "version": "3.10.11"
  },
  "orig_nbformat": 4
 },
 "nbformat": 4,
 "nbformat_minor": 2
}
