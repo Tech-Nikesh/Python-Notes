{
 "cells": [
  {
   "attachments": {},
   "cell_type": "markdown",
   "metadata": {},
   "source": [
    "# Method types\n",
    "    # instance method\n",
    "    # Static method\n",
    "    # class method"
   ]
  },
  {
   "cell_type": "code",
   "execution_count": 1,
   "metadata": {},
   "outputs": [
    {
     "name": "stdout",
     "output_type": "stream",
     "text": [
      "False\n"
     ]
    }
   ],
   "source": [
    "# Static Method\n",
    "class calculation:\n",
    "    def  __init__(self,a,b):\n",
    "        self.a=a\n",
    "        self.b=b\n",
    "    def add(self):\n",
    "        return self.a + self.b\n",
    "    @staticmethod\n",
    "    def iseven(n):\n",
    "        if n%2==0:\n",
    "            return True\n",
    "        else:\n",
    "            return False\n",
    "c=calculation(6,9)\n",
    "c.add()\n",
    "print(c.iseven(7))\n",
    "\n"
   ]
  },
  {
   "cell_type": "code",
   "execution_count": 7,
   "metadata": {},
   "outputs": [
    {
     "name": "stdout",
     "output_type": "stream",
     "text": [
      "Name : rohit\n",
      "Age : 24\n",
      "Id : delhi\n",
      "Name : rahul\n",
      "Age : 21\n",
      "Id : noida\n"
     ]
    }
   ],
   "source": [
    "# Class Method\n",
    "class calculation:\n",
    "    def __init__(self,name,age,id):\n",
    "        self.name=name\n",
    "        self.age=age\n",
    "        self.id=id\n",
    "    @classmethod\n",
    "    def new_details(self,name,birthyear,loc):\n",
    "        return self(name,2022-birthyear,loc)\n",
    "    \n",
    "    def display(self):\n",
    "        print(\"Name :\",self.name)\n",
    "        print(\"Age :\",self.age)\n",
    "        print(\"Id :\",self.id)\n",
    "e1=calculation(\"rohit\",24,\"delhi\")\n",
    "e1.display()\n",
    "\n",
    "e2=calculation.new_details(\"rahul\",2001,\"noida\")\n",
    "e2.display()"
   ]
  }
 ],
 "metadata": {
  "kernelspec": {
   "display_name": "Python 3",
   "language": "python",
   "name": "python3"
  },
  "language_info": {
   "codemirror_mode": {
    "name": "ipython",
    "version": 3
   },
   "file_extension": ".py",
   "mimetype": "text/x-python",
   "name": "python",
   "nbconvert_exporter": "python",
   "pygments_lexer": "ipython3",
   "version": "3.10.11"
  },
  "orig_nbformat": 4
 },
 "nbformat": 4,
 "nbformat_minor": 2
}
