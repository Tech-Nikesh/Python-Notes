{
 "cells": [
  {
   "attachments": {},
   "cell_type": "markdown",
   "metadata": {},
   "source": [
    "                            File Handling"
   ]
  },
  {
   "attachments": {},
   "cell_type": "markdown",
   "metadata": {},
   "source": [
    "# File-----generic data collection which can be stored in a drive\n",
    "\n",
    "# handling-----\n",
    "\n",
    "# File handling\n",
    "    ##select mode\n",
    "        -> Read -- (r)\n",
    "        -> Write -- (w)\n",
    "        -> append -- (a)\n",
    "        -> Create -- (x)\n",
    "\n",
    "* Rowtext---(r)\n",
    "    syntax:- \n",
    "        txt=r\"My name is \\n Rahul\"\n",
    "        print(txt)\n",
    "\n",
    "* readline -----> line by line read karta hai\n",
    "    print(file.readline())\n",
    "    print(file.readline(5))  # 5 means bitch k panch santance print hoga\n",
    "    print(file.readline())\n",
    "\n",
    "* Readlines -----> sabhi data ek saat print hoga line by line \n",
    "\n",
    "* readable ----> Readable hai ya nahi agar readable  hoga toh-->True and nahi toh-->False\n",
    "\n",
    "* Time Write -----> yah current date or time batata hai"
   ]
  },
  {
   "cell_type": "code",
   "execution_count": null,
   "metadata": {},
   "outputs": [],
   "source": [
    "# read\n",
    "\n",
    "file=open(\"C:\\\\Users\\\\pc\\\\OneDrive\\\\Desktop\\\\DATA\\\\data.txt\",mode=\"r\")\n",
    "data=file.read()\n",
    "print(data)\n",
    "file.close()\n"
   ]
  },
  {
   "cell_type": "code",
   "execution_count": null,
   "metadata": {},
   "outputs": [],
   "source": [
    "# Write\n",
    "\n",
    "file=open(\"C:\\\\Users\\\\pc\\\\OneDrive\\\\Desktop\\\\DATA\\\\data.txt\",mode=\"r\")\n",
    "data=file.read()\n",
    "print(data)\n",
    "file.close()\n",
    "\n",
    "file=open(r\"C:\\\\Users\\\\pc\\\\OneDrive\\\\Desktop\\\\DATA\\\\data.txt\",mode=\"w\")\n",
    "data=data.lower()\n",
    "file.write(data)\n",
    "\n"
   ]
  },
  {
   "cell_type": "code",
   "execution_count": null,
   "metadata": {},
   "outputs": [],
   "source": [
    "# Append \n",
    "file=open(\"C:\\\\Users\\\\pc\\\\OneDrive\\\\Desktop\\\\DATA\\\\data.txt\",mode=\"r\")\n",
    "data=file.read()\n",
    "print(data)\n",
    "file.close()\n",
    "\n",
    "file=open(r\"C:\\\\Users\\\\pc\\\\OneDrive\\\\Desktop\\\\DATA\\\\data.txt\",mode=\"a\")\n",
    "data=data.upper()\n",
    "file.write(data)\n"
   ]
  },
  {
   "cell_type": "code",
   "execution_count": 5,
   "metadata": {},
   "outputs": [],
   "source": [
    "# Time write\n",
    "\n",
    "import datetime\n",
    "\n",
    "time=datetime.datetime.now()\n",
    "a=int(input(\"Enter the Number :\"))\n",
    "file=open(r\"C:\\\\Users\\\\pc\\\\OneDrive\\\\Desktop\\\\DATA\\\\data.txt\",mode=\"a\")\n",
    "file.write(f\"Time={time}\\n\")\n",
    "for x in range(1,11):\n",
    "    file.write(f\"{a}*{x}={a*x}\\n\")\n",
    "    "
   ]
  },
  {
   "cell_type": "code",
   "execution_count": 1,
   "metadata": {},
   "outputs": [
    {
     "data": {
      "text/plain": [
       "18"
      ]
     },
     "execution_count": 1,
     "metadata": {},
     "output_type": "execute_result"
    }
   ],
   "source": [
    "# create\n",
    "file=open(\"fill.bin\",mode=\"x\")\n",
    "file.write(\"This is the Python\")"
   ]
  },
  {
   "cell_type": "code",
   "execution_count": 1,
   "metadata": {},
   "outputs": [
    {
     "name": "stdout",
     "output_type": "stream",
     "text": [
      "b'This is the Python'\n"
     ]
    }
   ],
   "source": [
    "# Binary\n",
    "file=open(\"ddddta.bin\",mode=\"w\")\n",
    "file.write(\"This is the Python\")\n",
    "\n",
    "\n",
    "file=open(\"ddddta.bin\",mode=\"rb\")\n",
    "print(file.read())\n",
    "\n",
    "\n",
    "\n",
    "# file.write(b'Python')\n",
    "\n",
    "# txt=f\"my name is \\n Rahul\"\n",
    "# print(txt)"
   ]
  },
  {
   "cell_type": "code",
   "execution_count": null,
   "metadata": {},
   "outputs": [],
   "source": [
    "import os\n",
    "os.mkdir(\"python\")              #new Folder create in my file\n",
    "file=open(\"python/file.text\",mode=\"w\")\n",
    "os.remove(\"Python/file.text\")      # file remove karta hai\n",
    "os.rmdir(\"python\")          #folder remove karta hai\n",
    "print(os.path.exists(\"Python\"))  # file exits hai ya nahi cheak karta hai"
   ]
  }
 ],
 "metadata": {
  "kernelspec": {
   "display_name": "Python 3",
   "language": "python",
   "name": "python3"
  },
  "language_info": {
   "codemirror_mode": {
    "name": "ipython",
    "version": 3
   },
   "file_extension": ".py",
   "mimetype": "text/x-python",
   "name": "python",
   "nbconvert_exporter": "python",
   "pygments_lexer": "ipython3",
   "version": "3.10.11"
  },
  "orig_nbformat": 4
 },
 "nbformat": 4,
 "nbformat_minor": 2
}
