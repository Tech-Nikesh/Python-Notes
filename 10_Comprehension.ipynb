{
 "cells": [
  {
   "attachments": {},
   "cell_type": "markdown",
   "metadata": {},
   "source": [
    "                        Comprehension"
   ]
  },
  {
   "attachments": {},
   "cell_type": "markdown",
   "metadata": {},
   "source": [
    "**#Comprehension:-**\n",
    "---> Two type of Comprehension\n",
    "    1.list Comprehension\n",
    "    2.Dictionary Comprehension"
   ]
  },
  {
   "attachments": {},
   "cell_type": "markdown",
   "metadata": {},
   "source": [
    "                            List Comprehension"
   ]
  },
  {
   "cell_type": "code",
   "execution_count": 5,
   "metadata": {},
   "outputs": [
    {
     "name": "stdout",
     "output_type": "stream",
     "text": [
      "[1, 4, 9, 16, 25, 36, 49, 64, 81, 100]\n",
      "[1, 4, 9, 16, 25, 36]\n"
     ]
    }
   ],
   "source": [
    "#\n",
    "#Q-1:-\n",
    "#normal\n",
    "r=range(1,11)\n",
    "li=[]\n",
    "for x in r:\n",
    "    li.append(x**2)\n",
    "print(li) \n",
    "#comprehension\n",
    "li=[1,2,3,4,5,6]\n",
    "li=[x**2 for x in li]\n",
    "print(li)"
   ]
  },
  {
   "cell_type": "code",
   "execution_count": 16,
   "metadata": {},
   "outputs": [
    {
     "name": "stdout",
     "output_type": "stream",
     "text": [
      "[1, 4, 9, 16, 25]\n",
      "[1, 4, 9, 16, 25]\n"
     ]
    }
   ],
   "source": [
    "#Q-2:-\n",
    "#Normal\n",
    "li=[[1,2,3],[4,5]]\n",
    "li1=[]\n",
    "for x in li:\n",
    "    for y in x:\n",
    "        li1.append(y**2)\n",
    "print(li1)\n",
    "\n",
    "#Comprehension\n",
    "li=[[1,2,3],[4,5]]\n",
    "li=[y**2 for x in li for y in x]\n",
    "print(li)\n"
   ]
  },
  {
   "cell_type": "code",
   "execution_count": 18,
   "metadata": {},
   "outputs": [
    {
     "name": "stdout",
     "output_type": "stream",
     "text": [
      "[[1, 4, 9], [16, 25]]\n",
      "[[1, 4, 9], [16, 25]]\n"
     ]
    }
   ],
   "source": [
    "#Q-3:-\n",
    "#Normal\n",
    "li=[[1,2,3],[4,5]]\n",
    "li2=[]\n",
    "for x in li:\n",
    "    li1=[]\n",
    "    for y in x:\n",
    "        li1.append(y**2)\n",
    "    li2.append(li1)\n",
    "print(li2)\n",
    "\n",
    "#Comprehension\n",
    "li=[[1,2,3],[4,5]]\n",
    "li=[[y**2 for y in x]for x in li]\n",
    "print(li)"
   ]
  },
  {
   "cell_type": "code",
   "execution_count": 19,
   "metadata": {},
   "outputs": [
    {
     "name": "stdout",
     "output_type": "stream",
     "text": [
      "[[9], [16, 25]]\n"
     ]
    }
   ],
   "source": [
    "li=[[1,2,3],[4,5]]\n",
    "li=[[y**2 for y in x if y>=3]for x in li]\n",
    "print(li)"
   ]
  },
  {
   "attachments": {},
   "cell_type": "markdown",
   "metadata": {},
   "source": [
    "                        Set comprehemsion\n",
    "                    "
   ]
  },
  {
   "cell_type": "code",
   "execution_count": 28,
   "metadata": {},
   "outputs": [
    {
     "name": "stdout",
     "output_type": "stream",
     "text": [
      "{1, 4, 9, 16, 25}\n"
     ]
    }
   ],
   "source": [
    "li=[1,2,3,4,5]\n",
    "s={x**2 for x in li}\n",
    "print(s)"
   ]
  },
  {
   "attachments": {},
   "cell_type": "markdown",
   "metadata": {},
   "source": [
    "                    Dictionary Comprehension"
   ]
  },
  {
   "cell_type": "code",
   "execution_count": 29,
   "metadata": {},
   "outputs": [
    {
     "name": "stdout",
     "output_type": "stream",
     "text": [
      "{1: 1, 2: 4, 3: 9, 4: 16, 5: 25}\n"
     ]
    }
   ],
   "source": [
    "li=[1,2,3,4,5]\n",
    "d={x:x**2 for x in li}\n",
    "print(d)\n"
   ]
  },
  {
   "cell_type": "code",
   "execution_count": 30,
   "metadata": {},
   "outputs": [
    {
     "name": "stdout",
     "output_type": "stream",
     "text": [
      "{1: 1, 2: 4, 3: 9}\n"
     ]
    }
   ],
   "source": [
    "#if\n",
    "\n",
    "li=[1,2,3,4,5]\n",
    "d={x:x**2 for x in li if x<=3}\n",
    "print(d)\n"
   ]
  },
  {
   "cell_type": "code",
   "execution_count": 31,
   "metadata": {},
   "outputs": [
    {
     "name": "stdout",
     "output_type": "stream",
     "text": [
      "{1: 1, 2: 4, 3: 9, 4: 64, 5: 125}\n"
     ]
    }
   ],
   "source": [
    "#if-else\n",
    "li=[1,2,3,4,5]\n",
    "d={x:x**2 if x<=3 else x**3 for x in li}\n",
    "print(d)"
   ]
  },
  {
   "cell_type": "code",
   "execution_count": 32,
   "metadata": {},
   "outputs": [
    {
     "name": "stdout",
     "output_type": "stream",
     "text": [
      "{1: {1: 1}, 2: {2: 4}, 3: {3: 9}, 4: {4: 16}, 5: {5: 25}}\n"
     ]
    }
   ],
   "source": [
    "#Nested\n",
    "li=[1,2,3,4,5]\n",
    "d={x:{x:x**2}for x in li}\n",
    "print(d)"
   ]
  }
 ],
 "metadata": {
  "kernelspec": {
   "display_name": "Python 3",
   "language": "python",
   "name": "python3"
  },
  "language_info": {
   "codemirror_mode": {
    "name": "ipython",
    "version": 3
   },
   "file_extension": ".py",
   "mimetype": "text/x-python",
   "name": "python",
   "nbconvert_exporter": "python",
   "pygments_lexer": "ipython3",
   "version": "3.10.11"
  },
  "orig_nbformat": 4
 },
 "nbformat": 4,
 "nbformat_minor": 2
}
