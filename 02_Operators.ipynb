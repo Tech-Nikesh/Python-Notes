{
 "cells": [
  {
   "cell_type": "markdown",
   "metadata": {},
   "source": [
    "                                        Operators"
   ]
  },
  {
   "cell_type": "markdown",
   "metadata": {},
   "source": [
    "#### Operators\n",
    "---Operators are seven tyes\n",
    "1.Arithmetic Operators(+, -, *, /, **, //, %)\n",
    "2.Assignment Operators(=,+=,-=,*=,/=,**=,//=, %=)\n",
    "3.Comparison Operators(>, <, >= ,<= , ==,!=)\n",
    "4.Logical Operators(and,or,not)\n",
    "5.Membership operators(in, not in)\n",
    "6.Identity Operators(is, is not)\n",
    "7.Bitwise Operators(&(and), |(or), ^(xor), >>(right shift) ,<<(left shift))\n"
   ]
  },
  {
   "cell_type": "code",
   "execution_count": null,
   "metadata": {},
   "outputs": [
    {
     "name": "stdout",
     "output_type": "stream",
     "text": [
      "Addition: 16\n",
      "Substraction: 8\n",
      "Multiplication: 48\n",
      "Division: 3.0\n",
      "Exponentiation: 20736\n",
      "Floor division: 3\n",
      "Module: 0\n"
     ]
    }
   ],
   "source": [
    "                        #1.Arithmetic Operators(+, -, *, /, **, //, %)\n",
    "\n",
    "i=12\n",
    "j=4\n",
    "print(\"Addition:\",i+j)\n",
    "print(\"Substraction:\",i-j)\n",
    "print(\"Multiplication:\",i*j)\n",
    "print(\"Division:\",i/j)\n",
    "print(\"Exponentiation:\",i**j)\n",
    "print(\"Floor division:\",i//j)\n",
    "print(\"Module:\",i%j)\n"
   ]
  },
  {
   "cell_type": "code",
   "execution_count": null,
   "metadata": {},
   "outputs": [],
   "source": [
    "                        # 2.Assignment Operators(=,+=,-=,*=,/=,**=,//=, %=)\n",
    "i=12\n",
    "j=14\n",
    "\n",
    "# i=j\n",
    "# print(\"Equalto:\",i)\n",
    "\n",
    "# i+=j\n",
    "# print(\"Addtion Equalto\",i)\n",
    "\n",
    "# i-=j\n",
    "# print(\"Substraction Equalto:\",i)\n",
    "\n",
    "# i*=j\n",
    "# print(\"Multiplication Equalto:\",i)\n",
    "\n",
    "# i/=j\n",
    "# print(\"Division Equalto:\",i)\n",
    "\n",
    "# i**=j\n",
    "# print(\"Exponentiation Equalto:\",i)\n",
    "\n",
    "# i//=j\n",
    "# print(\"Floor Division Equalto: \",i)\n",
    "\n",
    "# i%=j\n",
    "# print(\"Module Equalto:\",i)"
   ]
  },
  {
   "cell_type": "code",
   "execution_count": null,
   "metadata": {},
   "outputs": [
    {
     "name": "stdout",
     "output_type": "stream",
     "text": [
      "Greater then: False\n",
      "True\n",
      "False\n",
      "True\n",
      "False\n",
      "True\n"
     ]
    }
   ],
   "source": [
    "    # 3.Comparison Operators(>(greater then), <(less then), >=(greaterthen equalto),<=(Lessthen Equalto), ==(Double qualto),!=(not Equalto))\n",
    "i=1\n",
    "j=5\n",
    "print(i>j)\n",
    "print(i<j)\n",
    "print(i>=j)\n",
    "print(i<=j)\n",
    "print(i==j)\n",
    "print(i!=j)"
   ]
  },
  {
   "cell_type": "code",
   "execution_count": null,
   "metadata": {},
   "outputs": [
    {
     "name": "stdout",
     "output_type": "stream",
     "text": [
      "False\n",
      "True\n",
      "True\n"
     ]
    }
   ],
   "source": [
    "                            # 4.Logical Operators(and,or,not)\n",
    "\n",
    "i=10\n",
    "j=15\n",
    "k=17\n",
    "\n",
    "print(i>j and j<k)\n",
    "print(i>j or j<k)\n",
    "print(not(i>j and j<k))"
   ]
  },
  {
   "cell_type": "markdown",
   "metadata": {},
   "source": [
    "Note:-\n",
    "            And                             |           or         \n",
    "        True and True=True                  |    True and True=True\n",
    "        True and False=False                |    True and False=True\n",
    "        False and True=False                |    False and True=True\n",
    "        False and False=False               |    False and False=False"
   ]
  },
  {
   "cell_type": "code",
   "execution_count": null,
   "metadata": {},
   "outputs": [
    {
     "name": "stdout",
     "output_type": "stream",
     "text": [
      "True\n",
      "False\n"
     ]
    }
   ],
   "source": [
    "                        # 5.Membership operators(in, not in)\n",
    "li=[1,2,3,4,5,6,7]\n",
    "print(5 in li)\n",
    "print(7 not in li)"
   ]
  },
  {
   "cell_type": "code",
   "execution_count": null,
   "metadata": {},
   "outputs": [
    {
     "name": "stdout",
     "output_type": "stream",
     "text": [
      "True\n",
      "False\n"
     ]
    }
   ],
   "source": [
    "                        # 6.Identity Operators(is, is not)\n",
    "i=12\n",
    "j=12\n",
    "\n",
    "print(i is j)\n",
    "print(i is not j)"
   ]
  },
  {
   "cell_type": "code",
   "execution_count": null,
   "metadata": {},
   "outputs": [],
   "source": [
    "            # 7.Bitwise Operators(&(and), |(or), ^(xor), >>(right shift) ,<<(left shift))\n",
    "\n"
   ]
  }
 ],
 "metadata": {
  "language_info": {
   "name": "python"
  },
  "orig_nbformat": 4
 },
 "nbformat": 4,
 "nbformat_minor": 2
}
