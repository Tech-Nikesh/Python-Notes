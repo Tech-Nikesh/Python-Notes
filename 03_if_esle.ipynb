{
 "cells": [
  {
   "attachments": {},
   "cell_type": "markdown",
   "metadata": {},
   "source": [
    "                            If-else"
   ]
  },
  {
   "attachments": {},
   "cell_type": "markdown",
   "metadata": {},
   "source": [
    "                    if\n",
    "#---\n",
    "syntax:-\n",
    "if condition:\n",
    "    statement"
   ]
  },
  {
   "cell_type": "code",
   "execution_count": 2,
   "metadata": {},
   "outputs": [
    {
     "name": "stdout",
     "output_type": "stream",
     "text": [
      "yes\n"
     ]
    }
   ],
   "source": [
    "#if code\n",
    "n=5\n",
    "if n>4:\n",
    "    print(\"yes\")"
   ]
  },
  {
   "attachments": {},
   "cell_type": "markdown",
   "metadata": {},
   "source": [
    "                            if-else"
   ]
  },
  {
   "attachments": {},
   "cell_type": "markdown",
   "metadata": {},
   "source": [
    "                if-else\n",
    "#---\n",
    "syntax:-\n",
    "if condition1:\n",
    "    statement\n",
    "else:\n",
    "    statement"
   ]
  },
  {
   "cell_type": "code",
   "execution_count": 5,
   "metadata": {},
   "outputs": [
    {
     "name": "stdout",
     "output_type": "stream",
     "text": [
      "Eligible for vote\n"
     ]
    }
   ],
   "source": [
    "#if-else code\n",
    "age=int(input(\"Enter your age:\"))\n",
    "if age>=18:\n",
    "    print(\"Eligible for vote\")\n",
    "else:\n",
    "    print(\"You are not Eligible for vote\")"
   ]
  },
  {
   "attachments": {},
   "cell_type": "markdown",
   "metadata": {},
   "source": [
    "                    Elif-ladder"
   ]
  },
  {
   "attachments": {},
   "cell_type": "markdown",
   "metadata": {},
   "source": [
    "                    elif-ladder \n",
    "syntax:-\n",
    "if condition1:\n",
    "    statement\n",
    "elif condition2:\n",
    "    statment\n",
    "elif condition3:\n",
    "    statement\n",
    "else:\n",
    "    statement"
   ]
  },
  {
   "cell_type": "code",
   "execution_count": 6,
   "metadata": {},
   "outputs": [
    {
     "name": "stdout",
     "output_type": "stream",
     "text": [
      "Divisible by 5 and 7\n"
     ]
    }
   ],
   "source": [
    "# elif-ladder code\n",
    "n=35\n",
    "\n",
    "if n%5==0 and n%7==0:\n",
    "    print(\"Divisible by 5 and 7\")\n",
    "elif n%5==0:\n",
    "    print(\"Divisiblr by 5 only\")\n",
    "elif n%7==0:\n",
    "    print(\"Divisible by 7 only\")\n",
    "else:\n",
    "    print(\"Not Divisiblr by 5 and 7\")"
   ]
  },
  {
   "attachments": {},
   "cell_type": "markdown",
   "metadata": {},
   "source": [
    "                            Nested if-else"
   ]
  },
  {
   "attachments": {},
   "cell_type": "markdown",
   "metadata": {},
   "source": [
    "                      # Nested if-else\n",
    "Syntax:-\n",
    "if condition1:\n",
    "    if condition2:\n",
    "        statement\n",
    "    else:\n",
    "        statement\n",
    "else:\n",
    "    Statement"
   ]
  },
  {
   "cell_type": "code",
   "execution_count": 8,
   "metadata": {},
   "outputs": [
    {
     "name": "stdout",
     "output_type": "stream",
     "text": [
      "Negative number\n"
     ]
    }
   ],
   "source": [
    "#Nested if-else code\n",
    "n=int(input(\"Enter the Number:\"))\n",
    "if n>=0:\n",
    "    if n==0:\n",
    "        print(\"Zero\")\n",
    "    else:\n",
    "        print(\"Positive Number\")\n",
    "else:\n",
    "    print(\"Negative number\")"
   ]
  },
  {
   "attachments": {},
   "cell_type": "markdown",
   "metadata": {},
   "source": [
    "                            Shorthand If-Else"
   ]
  },
  {
   "attachments": {},
   "cell_type": "markdown",
   "metadata": {},
   "source": [
    "                        #Shorthand if-else\n",
    "Normal syntax:-\n",
    "if condition1:\n",
    "    statement1\n",
    "else:\n",
    "    statement2\n",
    " ------------------------------------------------   \n",
    "Shorthand Syntax:-\n",
    "Statement1 if condition1 else statement2\n"
   ]
  },
  {
   "cell_type": "code",
   "execution_count": 2,
   "metadata": {},
   "outputs": [
    {
     "name": "stdout",
     "output_type": "stream",
     "text": [
      "odd\n"
     ]
    }
   ],
   "source": [
    "    ##Normal code\n",
    "n=int(input(\"Enter the Number: \"))\n",
    "# if n%2==0:\n",
    "#     print(\"Even\")\n",
    "# else:\n",
    "#     print(\"odd\")\n",
    "\n",
    "    #shorthand code\n",
    "print(\"Even\") if n%2==0 else print(\"odd\")"
   ]
  },
  {
   "attachments": {},
   "cell_type": "markdown",
   "metadata": {},
   "source": [
    "                        shorthand Elif-ladder"
   ]
  },
  {
   "attachments": {},
   "cell_type": "markdown",
   "metadata": {},
   "source": [
    "    #Normal syntax:-\n",
    "if condition1:\n",
    "    statement1\n",
    "elif condition2:\n",
    "    statment2\n",
    "elif condition3:\n",
    "    statement3\n",
    "else:\n",
    "    statement4\n",
    "\n",
    "    #shorhand syntax:-\n",
    "Statement1 if condition1 else statement2 if condition2 else statment3 if condition3 else statement4"
   ]
  },
  {
   "cell_type": "code",
   "execution_count": null,
   "metadata": {},
   "outputs": [],
   "source": [
    "#Shorthand code"
   ]
  },
  {
   "attachments": {},
   "cell_type": "markdown",
   "metadata": {},
   "source": [
    "                         Shorthand Nested if-else"
   ]
  },
  {
   "cell_type": "code",
   "execution_count": 3,
   "metadata": {},
   "outputs": [
    {
     "name": "stdout",
     "output_type": "stream",
     "text": [
      "Zero\n"
     ]
    }
   ],
   "source": [
    "n=int(input(\"Enter the Number :\"))\n",
    "print(\"Zero\") if n==0 else print(\"Position\") if n>=0 else print(\"Negetive\")"
   ]
  }
 ],
 "metadata": {
  "kernelspec": {
   "display_name": "Python 3",
   "language": "python",
   "name": "python3"
  },
  "language_info": {
   "codemirror_mode": {
    "name": "ipython",
    "version": 3
   },
   "file_extension": ".py",
   "mimetype": "text/x-python",
   "name": "python",
   "nbconvert_exporter": "python",
   "pygments_lexer": "ipython3",
   "version": "3.10.11"
  },
  "orig_nbformat": 4
 },
 "nbformat": 4,
 "nbformat_minor": 2
}
