{
 "cells": [
  {
   "attachments": {},
   "cell_type": "markdown",
   "metadata": {},
   "source": [
    "                        List"
   ]
  },
  {
   "attachments": {},
   "cell_type": "markdown",
   "metadata": {},
   "source": [
    "## list:-\n",
    "    # collection of all type of data\n",
    "    # Mutable collection \n",
    "    # List is Indexing, indices are in order "
   ]
  },
  {
   "cell_type": "code",
   "execution_count": null,
   "metadata": {},
   "outputs": [],
   "source": [
    "li=[23,18.6,23,\"python\",[12,\"ducat\",12]]\n",
    "print(li[0])\n",
    "print(li[4])\n",
    "print(li[-1])\n",
    "print(li[0:3])\n",
    "print(li[-1][1])\n",
    "#==================================\n",
    "list1=[1,2,3,4,5,6,5.9,2.4]\n",
    "list2=['a','b','1',5,'A']\n",
    "print(max(list1))\n",
    "print(min(list1))\n",
    "print(sum(list1))\n",
    "\n",
    "list1[3]=\"java\"  #replacing indexing"
   ]
  },
  {
   "cell_type": "code",
   "execution_count": 18,
   "metadata": {},
   "outputs": [
    {
     "name": "stdout",
     "output_type": "stream",
     "text": [
      "None\n"
     ]
    }
   ],
   "source": [
    "# Method of List \n",
    "li=[23,12,23,'python',[12,'ducat',12]]\n",
    "\n",
    "# print(li.append(26))   #append means add value in the last\n",
    "# print(li.insert(1,25))     #\n",
    "# print(li.clear())      #list Empty\n",
    "# print(li.remove(23))     #remove one data\n",
    "# print(li.pop(3))        # indexing bise\n",
    "# print(li.pop())          # last value remove\n",
    "# print(li.count(23))       #2 times\n",
    "# print(li.index(\"python\"))  # 3rd position\n",
    "# print(li.sort())           # Assending order\n",
    "# print(li.sort(reverse=True)) # decending order\n",
    "# print(li.extend())          # add in list\n",
    "# print(li.reverse())\n"
   ]
  },
  {
   "cell_type": "code",
   "execution_count": null,
   "metadata": {},
   "outputs": [],
   "source": [
    "# Operation \n",
    "list1=[1,2,3,4,5,6,5.9,2.4]\n",
    "list2=['a','b','1',5,'A']"
   ]
  }
 ],
 "metadata": {
  "kernelspec": {
   "display_name": "Python 3",
   "language": "python",
   "name": "python3"
  },
  "language_info": {
   "codemirror_mode": {
    "name": "ipython",
    "version": 3
   },
   "file_extension": ".py",
   "mimetype": "text/x-python",
   "name": "python",
   "nbconvert_exporter": "python",
   "pygments_lexer": "ipython3",
   "version": "3.10.11"
  },
  "orig_nbformat": 4
 },
 "nbformat": 4,
 "nbformat_minor": 2
}
