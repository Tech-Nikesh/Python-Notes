{
 "cells": [
  {
   "attachments": {},
   "cell_type": "markdown",
   "metadata": {},
   "source": [
    "#Iterator\n",
    "#Generator\n",
    "#Decoretor"
   ]
  },
  {
   "attachments": {},
   "cell_type": "markdown",
   "metadata": {},
   "source": [
    "                                #Iterator"
   ]
  },
  {
   "cell_type": "code",
   "execution_count": 4,
   "metadata": {},
   "outputs": [
    {
     "name": "stdout",
     "output_type": "stream",
     "text": [
      "a\n",
      "b\n",
      "c\n",
      "d\n",
      "e\n"
     ]
    }
   ],
   "source": [
    "li=['a','b','c','d','e']\n",
    "\n",
    "obj=iter(li)\n",
    "print(next(obj))\n",
    "print(next(obj))\n",
    "print(next(obj))\n",
    "print(next(obj))\n",
    "print(next(obj))"
   ]
  },
  {
   "attachments": {},
   "cell_type": "markdown",
   "metadata": {},
   "source": [
    "                            #Generator"
   ]
  },
  {
   "cell_type": "code",
   "execution_count": 10,
   "metadata": {},
   "outputs": [
    {
     "name": "stdout",
     "output_type": "stream",
     "text": [
      "A\n",
      "B\n",
      "C\n",
      "D\n",
      "E\n"
     ]
    }
   ],
   "source": [
    "def travel():\n",
    "    places=['A','B','C','D','E']\n",
    "    for i in places:\n",
    "        yield i\n",
    "i=travel()\n",
    "print(next(i))\n",
    "print(next(i))\n",
    "print(next(i))\n",
    "print(next(i))\n",
    "print(next(i))"
   ]
  },
  {
   "attachments": {},
   "cell_type": "markdown",
   "metadata": {},
   "source": [
    "                                #Decoretor"
   ]
  },
  {
   "cell_type": "code",
   "execution_count": 17,
   "metadata": {},
   "outputs": [
    {
     "name": "stdout",
     "output_type": "stream",
     "text": [
      "decorator\n",
      "decorator\n",
      "=========================\n",
      "DUCAT\n"
     ]
    }
   ],
   "source": [
    "#Example 1\n",
    "def decorator(f):\n",
    "    print(\"decorator\")\n",
    "def abc():\n",
    "    print(\"ABC\")\n",
    "def XYZ():\n",
    "    print(\"XYZ\")\n",
    "\n",
    "decorator(abc)\n",
    "decorator(XYZ)\n",
    "print(\"=========================\")\n",
    "\n",
    "#Example 2\n",
    "def decorator(f):\n",
    "    def inner(n):\n",
    "        return f(n).upper()\n",
    "    return inner\n",
    "@decorator\n",
    "def abc(n):\n",
    "    return n\n",
    "def XYZ(n):\n",
    "    return n\n",
    "print(abc(\"Ducat\"))"
   ]
  }
 ],
 "metadata": {
  "kernelspec": {
   "display_name": "Python 3",
   "language": "python",
   "name": "python3"
  },
  "language_info": {
   "codemirror_mode": {
    "name": "ipython",
    "version": 3
   },
   "file_extension": ".py",
   "mimetype": "text/x-python",
   "name": "python",
   "nbconvert_exporter": "python",
   "pygments_lexer": "ipython3",
   "version": "3.10.11"
  },
  "orig_nbformat": 4
 },
 "nbformat": 4,
 "nbformat_minor": 2
}
