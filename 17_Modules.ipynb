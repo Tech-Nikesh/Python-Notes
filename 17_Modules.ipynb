{
 "cells": [
  {
   "attachments": {},
   "cell_type": "markdown",
   "metadata": {},
   "source": [
    "                        Modules"
   ]
  },
  {
   "attachments": {},
   "cell_type": "markdown",
   "metadata": {},
   "source": [
    "# Modulas \n",
    "\n",
    "\n",
    "Pakage:- collection of modules(pekage ek folder hote hai or modules ek file hote hai)\n"
   ]
  },
  {
   "cell_type": "code",
   "execution_count": 2,
   "metadata": {},
   "outputs": [
    {
     "name": "stdout",
     "output_type": "stream",
     "text": [
      "My name is Nikesh and i am student of ducat\n",
      "My name is Honny and i am student of LG\n",
      "My name is Anit and i am student of TCS\n",
      "My name is sahil and i am student of ms\n"
     ]
    }
   ],
   "source": [
    "import pratices\n",
    "\n",
    "pratices.display(\"sahil\",\"ms\")"
   ]
  }
 ],
 "metadata": {
  "kernelspec": {
   "display_name": "Python 3",
   "language": "python",
   "name": "python3"
  },
  "language_info": {
   "codemirror_mode": {
    "name": "ipython",
    "version": 3
   },
   "file_extension": ".py",
   "mimetype": "text/x-python",
   "name": "python",
   "nbconvert_exporter": "python",
   "pygments_lexer": "ipython3",
   "version": "3.10.11"
  },
  "orig_nbformat": 4
 },
 "nbformat": 4,
 "nbformat_minor": 2
}
