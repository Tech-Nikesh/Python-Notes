{
 "cells": [
  {
   "attachments": {},
   "cell_type": "markdown",
   "metadata": {},
   "source": [
    "                            String "
   ]
  },
  {
   "attachments": {},
   "cell_type": "markdown",
   "metadata": {},
   "source": [
    "**String:-**\n",
    "    # class name--> str\n",
    "    # this is primitive data type\n",
    "    # collection  of data \n",
    "\n",
    "**Data Extraction**\n",
    "    #Indexing \n",
    "    #Slicing\n",
    "    #Slicing reverse\n",
    "\n",
    "**Method**"
   ]
  },
  {
   "cell_type": "code",
   "execution_count": 4,
   "metadata": {},
   "outputs": [
    {
     "name": "stdout",
     "output_type": "stream",
     "text": [
      "Python Python Python Python\n",
      "\n",
      "\n"
     ]
    }
   ],
   "source": [
    "# Comment type\n",
    "s1='Python'          #single Quates\n",
    "s2=\"Python\"          #Double Quates\n",
    "s3='''Python'''      #Triple Quates\n",
    "s4=\"\"\"Python\"\"\"      #Multiline comment\n",
    "print(s1,s2,s3,s4)"
   ]
  },
  {
   "cell_type": "code",
   "execution_count": 5,
   "metadata": {},
   "outputs": [
    {
     "name": "stdout",
     "output_type": "stream",
     "text": [
      "hellopython\n"
     ]
    }
   ],
   "source": [
    "#Addition\n",
    "s='hello'\n",
    "s1='python'\n",
    "s2=s+s1        #String Concatination\n",
    "print(s2)\n",
    "\n",
    "# Note:- string ko sirf addtion or multipli kr sakte hai"
   ]
  },
  {
   "cell_type": "code",
   "execution_count": 6,
   "metadata": {},
   "outputs": [
    {
     "name": "stdout",
     "output_type": "stream",
     "text": [
      "hellohellohellohello\n"
     ]
    }
   ],
   "source": [
    "#Multiplication\n",
    "s=\"hello\"\n",
    "print(s*4)"
   ]
  },
  {
   "attachments": {},
   "cell_type": "markdown",
   "metadata": {},
   "source": [
    "                        Format"
   ]
  },
  {
   "cell_type": "code",
   "execution_count": null,
   "metadata": {},
   "outputs": [],
   "source": [
    "#Type-1:-\n",
    "location=input(\"Enter Location\")\n",
    "plot_no=int(input(\"Enter the plot number: \"))\n",
    "s=\"ducat is company situated in\"\n"
   ]
  },
  {
   "cell_type": "code",
   "execution_count": null,
   "metadata": {},
   "outputs": [],
   "source": [
    "#Type-2:- formet type hai"
   ]
  },
  {
   "cell_type": "code",
   "execution_count": null,
   "metadata": {},
   "outputs": [],
   "source": [
    "#Type-3:-"
   ]
  },
  {
   "cell_type": "code",
   "execution_count": null,
   "metadata": {},
   "outputs": [],
   "source": [
    "#Type-4:-"
   ]
  },
  {
   "attachments": {},
   "cell_type": "markdown",
   "metadata": {},
   "source": [
    "                            Data Extraction"
   ]
  },
  {
   "cell_type": "code",
   "execution_count": 7,
   "metadata": {},
   "outputs": [
    {
     "name": "stdout",
     "output_type": "stream",
     "text": [
      "n\n",
      "i\n"
     ]
    }
   ],
   "source": [
    "# Indexing\n",
    "s='Python Programming'\n",
    "print(s[5])\n",
    "print(s[-3])"
   ]
  },
  {
   "cell_type": "code",
   "execution_count": 13,
   "metadata": {},
   "outputs": [
    {
     "name": "stdout",
     "output_type": "stream",
     "text": [
      "tho\n",
      "Program\n"
     ]
    }
   ],
   "source": [
    "#Slicing\n",
    "s=\"Python Programming\"\n",
    "print(s[2:5:1])  # 2 is starting value and 5 is ending value and 1 is step size \n",
    "print(s[7:-4])"
   ]
  },
  {
   "cell_type": "code",
   "execution_count": 20,
   "metadata": {},
   "outputs": [
    {
     "name": "stdout",
     "output_type": "stream",
     "text": [
      "nothyp\n",
      "nothy\n",
      "pyhton\n",
      "nothyp\n",
      "ton\n",
      "pyhto\n",
      "6\n"
     ]
    }
   ],
   "source": [
    "#Slicing reverse\n",
    "s=\"pyhton\"\n",
    "print(s[5::-1])\n",
    "print(s[5:0:-1])\n",
    "print(s[::])\n",
    "print(s[::-1])\n",
    "print(s[-3:])\n",
    "print(s[:-1])\n",
    "\n",
    "#length-->len()\n",
    "s=\"python\"\n",
    "print(len(s))"
   ]
  },
  {
   "attachments": {},
   "cell_type": "markdown",
   "metadata": {},
   "source": [
    "                        Method"
   ]
  },
  {
   "cell_type": "code",
   "execution_count": 36,
   "metadata": {},
   "outputs": [
    {
     "name": "stdout",
     "output_type": "stream",
     "text": [
      "Python\n",
      "PYTHON\n",
      "python\n",
      "My Name Is Nikesh\n",
      "my name is nikesh\n",
      "mY nAME is NiKESH\n",
      "2\n"
     ]
    }
   ],
   "source": [
    "# method modify the String \n",
    "\n",
    "s=\"python\"\n",
    "s1=\"PYTHON\"\n",
    "k=\"My Name IS nIkesh\"\n",
    "print(s.capitalize())    #in word first character capital\n",
    "print(s.upper())         # small ko capital kr dega\n",
    "print(s1.lower())        # capital ko small kr dega\n",
    "print(k.title())         # Santance k har word k first char ko capital kr dega\n",
    "print(k.casefold())     # pure Santance ko lower case me kr dega \n",
    "print(k.swapcase())   # lower case ko upper case or upper case ko lower case me change kr dega\n",
    "\n",
    "#counting-->Count()\n",
    "s='python programming'\n",
    "print(s.count('g'))     # Santance me g kitni baar hai count kr dega\n",
    "\n",
    "\n"
   ]
  },
  {
   "cell_type": "code",
   "execution_count": 16,
   "metadata": {},
   "outputs": [
    {
     "name": "stdout",
     "output_type": "stream",
     "text": [
      "b'Nikesh kumar'\n",
      "True\n",
      "True\n",
      "Nikesh                kumar\n",
      "8\n",
      "4\n",
      "Nikesh kumar\n",
      "hello python\n"
     ]
    }
   ],
   "source": [
    "s=\"Nikesh kumar\"\n",
    "s1=\"Nikesh \\tkumar\"\n",
    "s2=\"hello {course}\"\n",
    "print(s.encode())  # yah byte me answer lata hai\n",
    "print(s.endswith(\"r\")) # end kiss char se ho raha hai answer true or false me dega\n",
    "print(s.startswith('Nike')) # start kiss char se hho raha hai\n",
    "print(s1.expandtabs(22))  #space lata hai \n",
    "print(s.find('u',5)) # yah search karta hai ki char kiss indexing pr hai or 5 ka mtlb hai ki stating k 5 char chod k count karta hai\n",
    "print(s.index(\"s\"))  # indexing btata hai\n",
    "print(s.format())\n",
    "print(s2.format_map({'course':'python'}))"
   ]
  },
  {
   "cell_type": "code",
   "execution_count": null,
   "metadata": {},
   "outputs": [],
   "source": [
    "print(s.islower())\n",
    "print(s.isupper())\n",
    "print(s.isnumeric())\n",
    "print(s.istitle())\n",
    "print(s.isprintable())\n",
    "print(s.isascii())\n",
    "print(s.split())\n",
    "\n",
    "#============================\n",
    "\n",
    "data=['python','program']\n",
    "print(\"\".join(data))\n",
    "\n",
    "#==============================\n",
    "s='''\n",
    "this is python class\n",
    "we study about python program\n",
    "today's topic is string method\n",
    "'''\n",
    "print(s.splitlines())\n",
    "\n",
    "#================================\n",
    "\n",
    "S=\"Python Program\"\n",
    "print(s.replace(\"python\",\"java\"))\n",
    "\n",
    "#==============================\n",
    "\n",
    "print(s.strip())\n",
    "print(s.rstrip())\n",
    "print(s.lstrip())\n",
    "print(s.zfill())"
   ]
  }
 ],
 "metadata": {
  "kernelspec": {
   "display_name": "Python 3",
   "language": "python",
   "name": "python3"
  },
  "language_info": {
   "codemirror_mode": {
    "name": "ipython",
    "version": 3
   },
   "file_extension": ".py",
   "mimetype": "text/x-python",
   "name": "python",
   "nbconvert_exporter": "python",
   "pygments_lexer": "ipython3",
   "version": "3.10.11"
  },
  "orig_nbformat": 4
 },
 "nbformat": 4,
 "nbformat_minor": 2
}
