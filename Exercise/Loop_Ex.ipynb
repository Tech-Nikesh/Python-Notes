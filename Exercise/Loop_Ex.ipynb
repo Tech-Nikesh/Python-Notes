{
 "cells": [
  {
   "attachments": {},
   "cell_type": "markdown",
   "metadata": {},
   "source": [
    "Q-1:-check the prime no given from the user."
   ]
  },
  {
   "cell_type": "code",
   "execution_count": 13,
   "metadata": {},
   "outputs": [
    {
     "name": "stdout",
     "output_type": "stream",
     "text": [
      "7 is a prime number\n"
     ]
    }
   ],
   "source": [
    "n=int(input(\"Enter the number: \"))\n",
    "\n",
    "if n<2:\n",
    "    print(n,\"is not a prime number:\")\n",
    "else:\n",
    "    is_prime=True\n",
    "    for i in range(2,n):\n",
    "        if n%i==0:\n",
    "        \n",
    "            is_prime= False\n",
    "            break\n",
    "    if is_prime:\n",
    "        print(n,\"is a prime number\")\n",
    "    else:\n",
    "        print(n,\"is not a prime number\")\n"
   ]
  },
  {
   "attachments": {},
   "cell_type": "markdown",
   "metadata": {},
   "source": [
    "Q-2:-Accept n number from user and calculate the sum of all number between 1 and n including"
   ]
  },
  {
   "cell_type": "code",
   "execution_count": null,
   "metadata": {},
   "outputs": [],
   "source": [
    "n=int(input(\"Enter the positive nuumber:\"))\n",
    "if n<1:\n",
    "    print(\"Error :n must be a positive Integer.\")\n",
    "else:\n",
    "    sum=0\n",
    "    for i in range(1,n+1):\n",
    "        sum+=i\n",
    "        print(\"The sum of all number 1 and n\",n,\"is\",sum)"
   ]
  },
  {
   "attachments": {},
   "cell_type": "markdown",
   "metadata": {},
   "source": [
    "Q-3:-3. Display numbers which are divisible by 5 and if you find number greater than 150 stop the loop iteration."
   ]
  },
  {
   "cell_type": "code",
   "execution_count": null,
   "metadata": {},
   "outputs": [],
   "source": [
    "for i in range(1,150):\n",
    "    if i % 5==0:\n",
    "        print(i)\n",
    "    if i>500:\n",
    "        break"
   ]
  },
  {
   "attachments": {},
   "cell_type": "markdown",
   "metadata": {},
   "source": [
    "4.Given a number count the total number of digits in a number."
   ]
  },
  {
   "cell_type": "code",
   "execution_count": 17,
   "metadata": {},
   "outputs": [
    {
     "name": "stdout",
     "output_type": "stream",
     "text": [
      "The total number of digits in the number is : 1\n"
     ]
    }
   ],
   "source": [
    "num=int(input(\"Enter the Number:\"))\n",
    "count=0\n",
    "while num !=0:\n",
    "    num//=10\n",
    "    count +=1\n",
    "    print(\"The total number of digits in the number is :\",count)"
   ]
  }
 ],
 "metadata": {
  "kernelspec": {
   "display_name": "Python 3",
   "language": "python",
   "name": "python3"
  },
  "language_info": {
   "codemirror_mode": {
    "name": "ipython",
    "version": 3
   },
   "file_extension": ".py",
   "mimetype": "text/x-python",
   "name": "python",
   "nbconvert_exporter": "python",
   "pygments_lexer": "ipython3",
   "version": "3.10.11"
  },
  "orig_nbformat": 4
 },
 "nbformat": 4,
 "nbformat_minor": 2
}
