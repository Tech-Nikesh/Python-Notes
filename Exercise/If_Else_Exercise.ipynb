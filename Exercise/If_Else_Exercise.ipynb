{
 "cells": [
  {
   "attachments": {},
   "cell_type": "markdown",
   "metadata": {},
   "source": [
    "1. Write a pyhton program to read the age of a candidate and determine whether it is eligible for casting his/her own vote. \n",
    "Test Data : 21\n",
    "Expected Output :\n",
    "Congratulation! You are eligible for casting your vote."
   ]
  },
  {
   "cell_type": "code",
   "execution_count": null,
   "metadata": {},
   "outputs": [],
   "source": [
    "age=int(input(\"Enter your age: \"))\n",
    "if age>=18:\n",
    "    print(\"Eligible for vote\")\n",
    "else:\n",
    "    print(\"Not Eligible for vote\")"
   ]
  },
  {
   "attachments": {},
   "cell_type": "markdown",
   "metadata": {},
   "source": [
    "2. Write a pyhton program to read the value of an integer m and display the value of n is 1 when m is larger than 0, 0 when m is 0 and -1 when m is less than 0. \n",
    "Test Data : -5\n",
    "Expected Output :\n",
    "The value of n = -1\n",
    "m>0   n=1\n",
    "m==0  n=0\n",
    "m<0   n=-1"
   ]
  },
  {
   "cell_type": "code",
   "execution_count": 4,
   "metadata": {},
   "outputs": [
    {
     "name": "stdout",
     "output_type": "stream",
     "text": [
      "n= -1\n"
     ]
    }
   ],
   "source": [
    "m=int(input(\"M:\"))\n",
    "if m>0:\n",
    "    n=1\n",
    "elif m<0:\n",
    "    n=-1\n",
    "else:\n",
    "    n=0\n",
    "print(\"n=\",n)"
   ]
  },
  {
   "attachments": {},
   "cell_type": "markdown",
   "metadata": {},
   "source": [
    "3. Write a pyhton program to accept the height of a person in centimeter and categorize the person according to their height. \n",
    "Test Data : 135\n",
    "Expected Output :\n",
    "The person is Dwarf.\n",
    "Categories:\n",
    "<140  Dwarf\n",
    ">=140  <=170  Average \n",
    ">=170  Tall"
   ]
  },
  {
   "cell_type": "code",
   "execution_count": 7,
   "metadata": {},
   "outputs": [
    {
     "name": "stdout",
     "output_type": "stream",
     "text": [
      "Dwarf\n"
     ]
    }
   ],
   "source": [
    "n=int(input(\"Enter the Number:\"))\n",
    "if n<140:\n",
    "    print(\"Dwarf\")\n",
    "elif n>=140 and n<=170:\n",
    "    print(\"Average\")\n",
    "elif n>=170:\n",
    "    print(\"Tell\")"
   ]
  },
  {
   "attachments": {},
   "cell_type": "markdown",
   "metadata": {},
   "source": [
    "4. Write a pyhton program to find the largest of three numbers. \n",
    "Test Data : 12 25 52\n",
    "Expected Output :\n",
    "1st Number = 12,        2nd Number = 25,        3rd Number = 52\n",
    "The 3rd Number is the greatest among three"
   ]
  },
  {
   "cell_type": "code",
   "execution_count": 8,
   "metadata": {},
   "outputs": [
    {
     "name": "stdout",
     "output_type": "stream",
     "text": [
      "52 is the larger of three Number\n"
     ]
    }
   ],
   "source": [
    "a=int(input(\"Enter first Number:\"))\n",
    "b=int(input(\"Enter Second Number:\"))\n",
    "c=int(input(\"Enter third Number:\"))\n",
    "larger=0\n",
    "if a>b and a>c:\n",
    "    larger=a\n",
    "elif b>c:\n",
    "    larger=b\n",
    "else:\n",
    "    larger=c\n",
    "print(larger,\"is the larger of three Number\")"
   ]
  },
  {
   "attachments": {},
   "cell_type": "markdown",
   "metadata": {},
   "source": [
    "5. Write a pyhton program to accept a coordinate point in a XY coordinate system and determine in which quadrant the coordinate point lies. \n",
    "Test Data : 7 9\n",
    "Expected Output :\n",
    "The coordinate point (7,9) lies in the First quadra"
   ]
  },
  {
   "cell_type": "code",
   "execution_count": 15,
   "metadata": {},
   "outputs": [
    {
     "name": "stdout",
     "output_type": "stream",
     "text": [
      "6 -4 lies in the fourth Quadrant\n"
     ]
    }
   ],
   "source": [
    "x=int(input(\"Enter the Number:\"))\n",
    "y=int(input(\"Enter second Number:\"))\n",
    "\n",
    "if x>0 and y>0:\n",
    "    print(x,y,\"lies in the First Quadrant\")\n",
    "elif x<0 and y>0:\n",
    "    print(x,y,\"lies in the second Quadrant\")\n",
    "elif x<0 and y<0:\n",
    "    print(x,y,\"lies is the Third Quadrant\")\n",
    "else:\n",
    "    print(x,y,\"lies in the fourth Quadrant\")"
   ]
  },
  {
   "attachments": {},
   "cell_type": "markdown",
   "metadata": {},
   "source": [
    "6. Write a python program to find the eligibility of admission for a professional course based on the following criteria: \n",
    "Eligibility Criteria : \n",
    "Marks in Maths >=65 and \n",
    "Marks in Physic >=55 and \n",
    "Marks in Chem>=50 and \n",
    "Total in all three subject >=190 or\n",
    " Total in Maths and Physics >=140 \n",
    "------------------------------------- Input the marks obtained in Physics :65 \n",
    "Input the marks obtained in Chemistry :51 \n",
    "Input the marks obtained in Mathematics :72 \n",
    "Total marks of Maths, Physics and Chemistry : 188 \n",
    "Total marks of Maths and Physics : 137\n",
    "The candidate is not eligible.\n",
    "Expected Output :\n",
    "The candidate is not eligible for admission."
   ]
  },
  {
   "cell_type": "code",
   "execution_count": 6,
   "metadata": {},
   "outputs": [
    {
     "name": "stdout",
     "output_type": "stream",
     "text": [
      "The candidate is eligible for admission.\n"
     ]
    }
   ],
   "source": [
    "maths = int(input(\"Input the marks obtained in Mathematics: \"))\n",
    "physics = int(input(\"Input the marks obtained in Physics: \"))\n",
    "chemistry = int(input(\"Input the marks obtained in Chemistry: \"))\n",
    "total_marks = maths + physics + chemistry\n",
    "maths_physics_total = maths + physics\n",
    "\n",
    "if maths >= 65 and physics >= 55 and chemistry >= 50 and total_marks >= 190:\n",
    "    print(\"The candidate is eligible for admission.\")\n",
    "elif maths_physics_total >= 140 and (maths >= 65 and physics >= 55):\n",
    "    print(\"The candidate is eligible for admission.\")\n",
    "else:\n",
    "    print(\"The candidate is not eligible for admission.\")\n"
   ]
  },
  {
   "attachments": {},
   "cell_type": "markdown",
   "metadata": {},
   "source": [
    "7. Write a Python program to calculate the root of a Quadratic Equation. \n",
    "Test Data : 1 5 7\n",
    "Expected Output :\n",
    "Root are imaginary;\n",
    "No solution.\n",
    "\t"
   ]
  },
  {
   "attachments": {},
   "cell_type": "markdown",
   "metadata": {},
   "source": [
    "8. Write a Python program to read roll no, name and marks of three subjects and calculate the total, percentage and division. \n",
    "Test Data :\n",
    "Input the Roll Number of the student :784\n",
    "Input the Name of the Student :James\n",
    "Input the marks of Physics, Chemistry and Computer Application : 70 80 90\n",
    "Expected Output :\n",
    "Roll No : 784\n",
    "Name of Student : James\n",
    "Marks in Physics : 70\n",
    "Marks in Chemistry : 80\n",
    "Marks in Computer Application : 90\n",
    "Total Marks = 240\n",
    "Percentage = 80.00\n",
    "Division = First"
   ]
  },
  {
   "attachments": {},
   "cell_type": "markdown",
   "metadata": {},
   "source": [
    "9. Write a Python program to read temperature in centigrade and display a suitable message according to temperature state below : \n",
    "Temp < 0 then Freezing weather\n",
    "Temp 0-10 then Very Cold weather\n",
    "Temp 10-20 then Cold weather\n",
    "Temp 20-30 then Normal in Temp\n",
    "Temp 30-40 then Its Hot\n",
    "Temp >=40 then Its Very Hot\n",
    "Test Data :\n",
    "42\n",
    "Expected Output :\n",
    "Its very hot."
   ]
  },
  {
   "attachments": {},
   "cell_type": "markdown",
   "metadata": {},
   "source": [
    "10. Write a Python program to check whether a triangle is Equilateral, Isosceles or Scalene. \n",
    "Test Data :\n",
    "50 50 60\n",
    "Expected Output :\n",
    "This is an isosceles triangle."
   ]
  },
  {
   "attachments": {},
   "cell_type": "markdown",
   "metadata": {},
   "source": [
    "11. Write a Python program to check whether a triangle can be formed by the given value for the angles. \n",
    "Test Data :\n",
    "40 55 65\n",
    "Expected Output :\n",
    "The triangle is not valid."
   ]
  },
  {
   "attachments": {},
   "cell_type": "markdown",
   "metadata": {},
   "source": [
    "12. Write a Python program to check whether a character is an alphabet, digit or special character. \n",
    "Test Data :\n",
    "@\n",
    "Expected Output :\n",
    "This is a special character."
   ]
  },
  {
   "attachments": {},
   "cell_type": "markdown",
   "metadata": {},
   "source": [
    "13. Write a Python program to check whether an alphabet is a vowel or consonant. \n",
    "Test Data :\n",
    "k\n",
    "Expected Output :\n",
    "The alphabet is a consonant."
   ]
  },
  {
   "attachments": {},
   "cell_type": "markdown",
   "metadata": {},
   "source": [
    "14. Write a Python program to calculate profit and loss on a transaction. \n",
    "Test Data :\n",
    "500 700\n",
    "Expected Output :\n",
    "You can booked your profit amount : 200"
   ]
  },
  {
   "attachments": {},
   "cell_type": "markdown",
   "metadata": {},
   "source": [
    "15. Write a program in Python to calculate and print the Electricity bill of a given customer. The customer id., name and unit consumed by the user should be taken from the keyboard and display the total amount to pay to the customer. The charge are as follow : \n",
    "\n",
    "Unit\tCharge/unit\n",
    "upto 199\t@1.20\n",
    "200 and above but less than 400\t@1.50\n",
    "400 and above but less than 600\t@1.80\n",
    "600 and above\t@2.00\n",
    "If bill exceeds Rs. 400 then a surcharge of 15% will be charged and the minimum bill should be of Rs. 100/-\n",
    "\n",
    "Test Data :\n",
    "1001\n",
    "James\n",
    "800\n",
    "\n",
    "Expected Output :\n",
    "Customer IDNO :1001\n",
    "Customer Name :James\n",
    "unit Consumed :800\n",
    "\n",
    "Amount Charges @Rs. 2.00 per unit : 1600.00\n",
    "Surchage Amount : 240.00\n",
    "Net Amount Paid By the Customer : 1840.00"
   ]
  },
  {
   "attachments": {},
   "cell_type": "markdown",
   "metadata": {},
   "source": [
    "16. Write a  program in python to accept a grade and declare the equivalent description : \n",
    "\n",
    "Grade\tDescription\n",
    "E\tExcellent\n",
    "V\tVery Good\n",
    "G\tGood\n",
    "A\tAverage\n",
    "F\tFail\n",
    "\n",
    "Test Data :\n",
    "Input the grade :A\n",
    "Expected Output :\n",
    "You have chosen : Average"
   ]
  },
  {
   "attachments": {},
   "cell_type": "markdown",
   "metadata": {},
   "source": [
    "17. Write a program in Python to read any day number in integer and display day name in the word. \n",
    "Test Data :\n",
    "4\n",
    "Expected Output :\n",
    "Thursday"
   ]
  },
  {
   "attachments": {},
   "cell_type": "markdown",
   "metadata": {},
   "source": [
    "18. Write a program in Python to read any digit, display in the word. \n",
    "Test Data :\n",
    "4\n",
    "Expected Output :\n",
    "Four"
   ]
  },
  {
   "attachments": {},
   "cell_type": "markdown",
   "metadata": {},
   "source": [
    "19. Write a program in Python to read any Month Number in integer and display Month name in the word. \n",
    "Test Data :\n",
    "4\n",
    "Expected Output :\n",
    "April"
   ]
  },
  {
   "attachments": {},
   "cell_type": "markdown",
   "metadata": {},
   "source": [
    "20. Write a program in Python to read any Month Number in integer and display the number of days for this month. \n",
    "Test Data :\n",
    "7\n",
    "Expected Output :\n",
    "Month have 31 days"
   ]
  },
  {
   "attachments": {},
   "cell_type": "markdown",
   "metadata": {},
   "source": [
    "21. Write a program in Python which is a Menu-Driven Program to compute the area of the various geometrical shape. \n",
    "Test Data :\n",
    "1\n",
    "5\n",
    "Expected Output :\n",
    "The area is : 78.500000"
   ]
  },
  {
   "attachments": {},
   "cell_type": "markdown",
   "metadata": {},
   "source": [
    "22. Write a program in Python which is a Menu-Driven Program to perform a simple calculation. \n",
    "Test Data :\n",
    "10\n",
    "2\n",
    "3\n",
    "Expected Output :\n",
    "The Multiplication of 10 and 2 is: 20"
   ]
  }
 ],
 "metadata": {
  "kernelspec": {
   "display_name": "Python 3",
   "language": "python",
   "name": "python3"
  },
  "language_info": {
   "codemirror_mode": {
    "name": "ipython",
    "version": 3
   },
   "file_extension": ".py",
   "mimetype": "text/x-python",
   "name": "python",
   "nbconvert_exporter": "python",
   "pygments_lexer": "ipython3",
   "version": "3.10.11"
  },
  "orig_nbformat": 4
 },
 "nbformat": 4,
 "nbformat_minor": 2
}
