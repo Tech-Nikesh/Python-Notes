{
 "cells": [
  {
   "attachments": {},
   "cell_type": "markdown",
   "metadata": {},
   "source": [
    "                        #Exception Handing\n",
    "# syntax  Error\n",
    "many type of error in python\n",
    "\n",
    "try: (error nahi aye is liye use karte  hai)\n",
    "except:(yah flow ko banay rakhta hai) "
   ]
  },
  {
   "cell_type": "code",
   "execution_count": null,
   "metadata": {},
   "outputs": [],
   "source": [
    "try:\n",
    "    a=int(input(\"Enter a integer number:\"))\n",
    "    print(a)\n",
    "except:\n",
    "    print(\"Error Occured\")\n",
    "    "
   ]
  },
  {
   "cell_type": "code",
   "execution_count": 3,
   "metadata": {},
   "outputs": [
    {
     "name": "stdout",
     "output_type": "stream",
     "text": [
      "32\n"
     ]
    }
   ],
   "source": [
    "#infinite Input\n",
    "\n",
    "while(1):\n",
    "    try:\n",
    "        a=int(input(\"Enter the Integer Number:\"))\n",
    "        print(a)\n",
    "        break\n",
    "    except:\n",
    "        pass"
   ]
  },
  {
   "cell_type": "code",
   "execution_count": 8,
   "metadata": {},
   "outputs": [
    {
     "name": "stdout",
     "output_type": "stream",
     "text": [
      "Number should be integer:\n"
     ]
    }
   ],
   "source": [
    "try:\n",
    "    a=int(input(\"Enter the integer Number:\"))\n",
    "    b=int(input(\"Enter the another Number:\"))\n",
    "    print(\"Division :\",a/b)\n",
    "    \n",
    "except ValueError:\n",
    "    print(\"Number should be integer\")\n",
    "\n",
    "except ZeroDivisionError:\n",
    "    print(\"Domonitor must not  be Zero\")\n",
    "except:\n",
    "    print(\"Unknown Error\")\n"
   ]
  },
  {
   "cell_type": "code",
   "execution_count": 10,
   "metadata": {},
   "outputs": [
    {
     "name": "stdout",
     "output_type": "stream",
     "text": [
      "Division 3.0\n",
      "division by zero\n"
     ]
    }
   ],
   "source": [
    "def division(a,b):\n",
    "    try:\n",
    "        print(\"Division\",a/b)\n",
    "    except ZeroDivisionError as e:\n",
    "        print(e)\n",
    "\n",
    "division(6,2)\n",
    "division(6,0)\n"
   ]
  },
  {
   "cell_type": "code",
   "execution_count": 11,
   "metadata": {},
   "outputs": [
    {
     "name": "stdout",
     "output_type": "stream",
     "text": [
      "Eligibble\n"
     ]
    }
   ],
   "source": [
    "#user define error\n",
    "\n",
    "class MyException(Exception):\n",
    "    pass\n",
    "age=int(input(\"Enter your age:\"))\n",
    "if age>=18:\n",
    "    print(\"Eligibble\")\n",
    "else:\n",
    "    raise MyException(\"age must be more than 18\")"
   ]
  }
 ],
 "metadata": {
  "kernelspec": {
   "display_name": "Python 3",
   "language": "python",
   "name": "python3"
  },
  "language_info": {
   "codemirror_mode": {
    "name": "ipython",
    "version": 3
   },
   "file_extension": ".py",
   "mimetype": "text/x-python",
   "name": "python",
   "nbconvert_exporter": "python",
   "pygments_lexer": "ipython3",
   "version": "3.10.11"
  },
  "orig_nbformat": 4
 },
 "nbformat": 4,
 "nbformat_minor": 2
}
